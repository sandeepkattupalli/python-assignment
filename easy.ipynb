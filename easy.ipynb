{
 "cells": [
  {
   "cell_type": "code",
   "execution_count": 2,
   "id": "7aa754a4",
   "metadata": {},
   "outputs": [],
   "source": [
    "def relation_to_luke(name):\n",
    "    if name==\"Darth Vader\":\n",
    "        return \"luke, i am your father .\"\n",
    "    elif name==\"Leia\":\n",
    "        return \"Luke, I am your sister.\"\n",
    "    elif name==\"Han\":\n",
    "        return \"Luke, I am your brother in law.\"\n",
    "    else:\n",
    "        return \"Luke, I am your droid.\""
   ]
  },
  {
   "cell_type": "code",
   "execution_count": 3,
   "id": "49d25c87",
   "metadata": {},
   "outputs": [
    {
     "data": {
      "text/plain": [
       "'luke, i am your father .'"
      ]
     },
     "execution_count": 3,
     "metadata": {},
     "output_type": "execute_result"
    }
   ],
   "source": [
    "relation_to_luke(\"Darth Vader\")"
   ]
  },
  {
   "cell_type": "code",
   "execution_count": 7,
   "id": "19683239",
   "metadata": {},
   "outputs": [],
   "source": [
    "#Create a function that takes damage and speed (attacks per second)\n",
    "#and returns the amount of damage after a given time.\n",
    "def damage(damage, speed, time):\n",
    "    if time==\"second\":\n",
    "        return damage*speed\n",
    "    elif time==\"minute\":\n",
    "        return damage*speed*60\n",
    "    elif time==\"hour\":\n",
    "        return damage*speed*3600\n",
    "    else:\n",
    "        return \"invalid\"\n",
    "    "
   ]
  },
  {
   "cell_type": "code",
   "execution_count": 8,
   "id": "b51b6822",
   "metadata": {},
   "outputs": [
    {
     "data": {
      "text/plain": [
       "200"
      ]
     },
     "execution_count": 8,
     "metadata": {},
     "output_type": "execute_result"
    }
   ],
   "source": [
    "damage(40, 5, \"second\")"
   ]
  },
  {
   "cell_type": "code",
   "execution_count": 1,
   "id": "b89f7537",
   "metadata": {},
   "outputs": [
    {
     "data": {
      "text/plain": [
       "True"
      ]
     },
     "execution_count": 1,
     "metadata": {},
     "output_type": "execute_result"
    }
   ],
   "source": [
    "#Create a function that takes a number as input and returns True \n",
    "#if the sum of its digits has the same parity as the entire number. Otherwise, return False.\n",
    "\n",
    "def parity_analysis(num):\n",
    "    a=num\n",
    "    b=0\n",
    "    while a>=1:\n",
    "        b+=a%10\n",
    "        a//=10\n",
    "    return (b%2==0 and num%2==0) or (b%2!=0 and num%2!=0)\n",
    "parity_analysis(243)\n",
    "    "
   ]
  },
  {
   "cell_type": "code",
   "execution_count": 2,
   "id": "637bf4df",
   "metadata": {},
   "outputs": [
    {
     "data": {
      "text/plain": [
       "True"
      ]
     },
     "execution_count": 2,
     "metadata": {},
     "output_type": "execute_result"
    }
   ],
   "source": [
    "#Create a function that takes a string, checks if it has the same number of \"x\"s and \"o\"s and returns either True or False.#\n",
    "def XO(txt):\n",
    "    a=0;b=0\n",
    "    for i in txt:\n",
    "        if i.lower()==\"x\":\n",
    "            a+=1\n",
    "        elif i.lower()==\"o\":\n",
    "            b+=1\n",
    "        else:\n",
    "            continue\n",
    "    return (a==b)\n",
    "XO(\"ooxx\")\n",
    "    "
   ]
  },
  {
   "cell_type": "code",
   "execution_count": 3,
   "id": "7a86ce45",
   "metadata": {},
   "outputs": [],
   "source": [
    "#5 Create a function that reverses a boolean value and returns the string\n",
    "#\"boolean expected\" if another variabletype is given.\n",
    "\n",
    "\n",
    "def reverse(arg):\n",
    "    if type(arg)==bool:\n",
    "        return not(arg)\n",
    "    else:\n",
    "        return \"boolean expected\""
   ]
  },
  {
   "cell_type": "code",
   "execution_count": 4,
   "id": "64255480",
   "metadata": {},
   "outputs": [
    {
     "data": {
      "text/plain": [
       "False"
      ]
     },
     "execution_count": 4,
     "metadata": {},
     "output_type": "execute_result"
    }
   ],
   "source": [
    "reverse(True)"
   ]
  },
  {
   "cell_type": "code",
   "execution_count": 8,
   "id": "5b9790b0",
   "metadata": {},
   "outputs": [
    {
     "data": {
      "text/plain": [
       "[2]"
      ]
     },
     "execution_count": 8,
     "metadata": {},
     "output_type": "execute_result"
    }
   ],
   "source": [
    "#Using list comprehensions, create a function that finds all even numbers from 1 to the given number.\n",
    "def find_even_nums(num):\n",
    "    l=[]\n",
    "    for i in range(1,num+1):\n",
    "        if i%2==0:\n",
    "            l.append(i)\n",
    "        else:\n",
    "            continue\n",
    "    return l\n",
    "find_even_nums(3)"
   ]
  },
  {
   "cell_type": "code",
   "execution_count": 1,
   "id": "078b6858",
   "metadata": {},
   "outputs": [],
   "source": [
    "#Create a function that takes a list of strings and integers, and filters out the list \n",
    "#so that it returns a list of integers only.\n",
    "def filter_list(l):\n",
    "    \n",
    "    lst=[]\n",
    "    for i in l:\n",
    "        if type(i)==int:\n",
    "            lst.append(i)\n",
    "        else:\n",
    "            continue\n",
    "    return lst"
   ]
  },
  {
   "cell_type": "code",
   "execution_count": 2,
   "id": "5074d8b1",
   "metadata": {},
   "outputs": [
    {
     "data": {
      "text/plain": [
       "[1, 2, 3, 4]"
      ]
     },
     "execution_count": 2,
     "metadata": {},
     "output_type": "execute_result"
    }
   ],
   "source": [
    "filter_list([1, 2, 3, \"a\", \"b\", 4])"
   ]
  },
  {
   "cell_type": "code",
   "execution_count": 4,
   "id": "9eb43e2b",
   "metadata": {},
   "outputs": [
    {
     "data": {
      "text/plain": [
       "[6, 3, 23, 17, 10]"
      ]
     },
     "execution_count": 4,
     "metadata": {},
     "output_type": "execute_result"
    }
   ],
   "source": [
    "#8 Write a function that takes a list and a number as arguments. Add the number to the end of the list\n",
    "# then remove the first element of the list. The function should then return the updated list.\n",
    "def next_in_line(lst, num):\n",
    "    p=len(lst)\n",
    "    if p>0:\n",
    "        lst.pop(0)\n",
    "        lst.append(num)\n",
    "        return lst\n",
    "    else:\n",
    "        return \"No list has been selected\"\n",
    "next_in_line([7, 6, 3, 23, 17], 10)\n"
   ]
  },
  {
   "cell_type": "code",
   "execution_count": 2,
   "id": "e58f0c9f",
   "metadata": {},
   "outputs": [
    {
     "data": {
      "text/plain": [
       "1"
      ]
     },
     "execution_count": 2,
     "metadata": {},
     "output_type": "execute_result"
    }
   ],
   "source": [
    "#Create a function that counts the number and returns it from the list of cards provided.\n",
    "def count(deck):\n",
    "    count=0\n",
    "    for card in deck:\n",
    "        if card in[2,3,4,5,6]:\n",
    "            count+=1\n",
    "        elif  card in [10,\"J\",\"Q\",\"K\",\"A\"]:\n",
    "            count-=1\n",
    "    return count\n",
    "count([5, 9, 10, 3, \"J\", \"A\", 4, 8, 5])           "
   ]
  },
  {
   "cell_type": "code",
   "execution_count": 4,
   "id": "01a82923",
   "metadata": {},
   "outputs": [
    {
     "data": {
      "text/plain": [
       "'p1'"
      ]
     },
     "execution_count": 4,
     "metadata": {},
     "output_type": "execute_result"
    }
   ],
   "source": [
    "#Given two strings,p1 and p2, return which person drew their gun the fastest.\n",
    "#f both are drawn at the same time, return \"tie\".\n",
    "def showdown(p1, p2):\n",
    "    a=0\n",
    "    b=0\n",
    "    for x in p1:\n",
    "        if x==\" \":\n",
    "            a+=1\n",
    "        else:\n",
    "            break\n",
    "    for y in p2:\n",
    "        if y==\" \":\n",
    "            b+=1\n",
    "        else:\n",
    "            break\n",
    "    if a>b:\n",
    "        return \"p2\"\n",
    "    elif b>a:\n",
    "        return \"p1\"\n",
    "    else:\n",
    "        return \"Tie\"\n",
    "showdown(\"               Bang! \",\"             Bang!   \")\n",
    "showdown(\"   Bang!        \",\"        Bang!   \")"
   ]
  },
  {
   "cell_type": "code",
   "execution_count": 5,
   "id": "fa3abbe1",
   "metadata": {},
   "outputs": [
    {
     "data": {
      "text/plain": [
       "False"
      ]
     },
     "execution_count": 5,
     "metadata": {},
     "output_type": "execute_result"
    }
   ],
   "source": [
    "#Create a function that takes a number as an argument and returns True or False\n",
    "#depending on whether the number is symmetrical or not.\n",
    "#A number is symmetrical when it is the same as its reverse.\n",
    "def is_symmetrical(num):\n",
    "    return (str(num)==str(num)[::-1])\n",
    "is_symmetrical(12567)"
   ]
  },
  {
   "cell_type": "code",
   "execution_count": 7,
   "id": "c4446d20",
   "metadata": {},
   "outputs": [
    {
     "data": {
      "text/plain": [
       "'first'"
      ]
     },
     "execution_count": 7,
     "metadata": {},
     "output_type": "execute_result"
    }
   ],
   "source": [
    "#Write a function that returns the strings:\n",
    "#\"both\" if both given booleans a and b are True.\n",
    "#\"first\" if only a is True.\n",
    "#\"second\" if only b is True .\n",
    "#\"neither\" if both a and b are False.\n",
    "def are_true(a, b):\n",
    "    if a == True and b == True:\n",
    "        return \"both\"\n",
    "    elif a == True:\n",
    "        return \"first\"\n",
    "    elif b == True:\n",
    "        return \"second\"\n",
    "    else:\n",
    "        return \"neither\"\n",
    "are_true(True,False)"
   ]
  },
  {
   "cell_type": "code",
   "execution_count": 9,
   "id": "1b75a5a7",
   "metadata": {},
   "outputs": [
    {
     "data": {
      "text/plain": [
       "'NO!'"
      ]
     },
     "execution_count": 9,
     "metadata": {},
     "output_type": "execute_result"
    }
   ],
   "source": [
    "#Your job is to help me create a function that takes a string and checks to see if it contains the following words or phrases:\n",
    "#\"anime\"\n",
    "#\"meme\"\n",
    "#\"vines\"\n",
    "#\"roasts\"\n",
    "#\"Danny DeVito\"\n",
    "#If it does, return \"NO!\". Otherwise, return \"Safe watching!\".\n",
    "def prevent_distractions(txt):\n",
    "    x=txt.split()\n",
    "    count=0\n",
    "    for y in x:\n",
    "        if y==\"anime\" or y==\"meme\" or y==\"vines\" or y==\"roasts\" or y==\"Danny\" or y==\"DeVito\":\n",
    "            count+=1\n",
    "        else:\n",
    "            continue\n",
    "    if count>0:\n",
    "        return \"NO!\"\n",
    "    else:\n",
    "        return \"Safe watching!\"\n",
    "prevent_distractions(\"How to ace BC Calculus in 5 Easy Steps\")\n",
    "prevent_distractions(\"Hot pictures of Danny DeVito\")"
   ]
  },
  {
   "cell_type": "code",
   "execution_count": 10,
   "id": "4e142ac4",
   "metadata": {},
   "outputs": [
    {
     "data": {
      "text/plain": [
       "0"
      ]
     },
     "execution_count": 10,
     "metadata": {},
     "output_type": "execute_result"
    }
   ],
   "source": [
    "#Create a function that takes three integer arguments (a, b, c) and returns the amount of integers which are of equal value.\n",
    "def equal(a, b, c):\n",
    "    count=0\n",
    "    if a==b==c:\n",
    "        count+=3\n",
    "    elif a==b or b==c or c==a:\n",
    "        count+=2\n",
    "    else:\n",
    "        count+=0\n",
    "    return count\n",
    "equal(3, 4, 1)"
   ]
  },
  {
   "cell_type": "code",
   "execution_count": 12,
   "id": "9a93c6be",
   "metadata": {},
   "outputs": [
    {
     "data": {
      "text/plain": [
       "False"
      ]
     },
     "execution_count": 12,
     "metadata": {},
     "output_type": "execute_result"
    }
   ],
   "source": [
    "#Create a function which validates whether a 3 character string is a vowel sandwich.\n",
    "#In order to have a valid sandwich, the string must satisfy the following rules:\n",
    "#The first and last characters must be a consonant.\n",
    "#The character in the middle must be a vowel.\n",
    "def is_vowel_sandwich(s):\n",
    "    vowel=0\n",
    "    conso=0\n",
    "    if len(s)==3:\n",
    "        for x in s:\n",
    "            if x==\"a\" or x==\"e\" or x==\"i\" or x==\"o\" or x==\"u\":\n",
    "                vowel+=1\n",
    "            elif x==\"A\" or x==\"E\" or x==\"I\" or x==\"O\" or x==\"U\":\n",
    "                vowel+=1\n",
    "            else:\n",
    "                conso+=1\n",
    "        return (conso==2 and vowel==1)\n",
    "    else:\n",
    "        return False\n",
    "is_vowel_sandwich(\"cat\")\n",
    "is_vowel_sandwich(\"ear\")"
   ]
  },
  {
   "cell_type": "code",
   "execution_count": 15,
   "id": "4951feea",
   "metadata": {},
   "outputs": [
    {
     "data": {
      "text/plain": [
       "'aebcd'"
      ]
     },
     "execution_count": 15,
     "metadata": {},
     "output_type": "execute_result"
    }
   ],
   "source": [
    "#Write a function that takes a string, breaks it up and returns it with vowels first, consonants second.\n",
    "#For any character that's not a vowel (like special characters or spaces), treat them like consonants.\n",
    "def split(txt):\n",
    "    \n",
    "    lst=[]\n",
    "    lst1=[]\n",
    "    for x in txt:                                            \n",
    "        lst.append(x)                                         \n",
    "    for x in lst:                                                  \n",
    "        if x in 'aeiou':                                         \n",
    "            lst1.append(x)\n",
    "        elif x in \"AEIOU\":\n",
    "            lst1.append(x)\n",
    "    for x in lst:                                                  \n",
    "        if x not in 'aeiou':                                 \n",
    "            lst1.append(x)\n",
    "    return ''.join(lst1)    \n",
    "split(\"abcde\")  "
   ]
  },
  {
   "cell_type": "code",
   "execution_count": 16,
   "id": "7ecf42aa",
   "metadata": {},
   "outputs": [
    {
     "data": {
      "text/plain": [
       "{'LETTERS': 0, 'DIGITS': 6}"
      ]
     },
     "execution_count": 16,
     "metadata": {},
     "output_type": "execute_result"
    }
   ],
   "source": [
    "#Write a function that takes a string and calculates the number of letters and digits within it.\n",
    "#Return the result in a dictionary.\n",
    "def count_all(txt):\n",
    "    a=0\n",
    "    b=0\n",
    "    for x in txt:\n",
    "        if x.isalpha():\n",
    "            a+=1\n",
    "        elif x.isdigit():\n",
    "            b+=1\n",
    "        else:\n",
    "            continue\n",
    "    return dict({\"LETTERS\":a,\"DIGITS\":b})\n",
    "count_all(\"149990\")"
   ]
  },
  {
   "cell_type": "code",
   "execution_count": 18,
   "id": "c1bbfa5c",
   "metadata": {},
   "outputs": [
    {
     "data": {
      "text/plain": [
       "0"
      ]
     },
     "execution_count": 18,
     "metadata": {},
     "output_type": "execute_result"
    }
   ],
   "source": [
    "#Lists can be mixed with various types. Your task for this challenge is to sum all the number elements in the given list.\n",
    "#Create a function that takes a list and returns the sum of all numbers in the list.\n",
    "def numbers_sum(lst):\n",
    "    sam=0\n",
    "    for x in lst:\n",
    "        if type(x)==int:\n",
    "            sam+=x\n",
    "        else:\n",
    "            continue\n",
    "    return sam\n",
    "numbers_sum([True, False, \"123\", \"75\"])"
   ]
  },
  {
   "cell_type": "code",
   "execution_count": null,
   "id": "a22575e3",
   "metadata": {},
   "outputs": [],
   "source": [
    "#Create a method in the Person class which returns how another person's age compares.\n",
    "#Given the objects p1, p2 and p3, which will be initialised with the attributes name and age,\n",
    "#return a sentence in the following format:\n",
    "class Person:\n",
    "    def __init__(self, name, age):\n",
    "        self.name = name\n",
    "        self.age = age\n",
    "    def compare_age(self, other):"
   ]
  }
 ],
 "metadata": {
  "kernelspec": {
   "display_name": "Python 3 (ipykernel)",
   "language": "python",
   "name": "python3"
  },
  "language_info": {
   "codemirror_mode": {
    "name": "ipython",
    "version": 3
   },
   "file_extension": ".py",
   "mimetype": "text/x-python",
   "name": "python",
   "nbconvert_exporter": "python",
   "pygments_lexer": "ipython3",
   "version": "3.10.9"
  }
 },
 "nbformat": 4,
 "nbformat_minor": 5
}
