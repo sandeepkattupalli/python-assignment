{
 "cells": [
  {
   "cell_type": "code",
   "execution_count": 1,
   "id": "c61b4ce4",
   "metadata": {},
   "outputs": [
    {
     "name": "stdout",
     "output_type": "stream",
     "text": [
      "my unique_items is : [1, 2, 3, 4, 7, 8, 9]\n"
     ]
    }
   ],
   "source": [
    "my_list=[2,1,3,4,2,3,3,2,7,9,8,7]\n",
    "unique_items=[]\n",
    "list_items=set(my_list)\n",
    "for i in list_items:\n",
    "    unique_items.append(i)\n",
    "print('my unique_items is :',unique_items)"
   ]
  },
  {
   "cell_type": "code",
   "execution_count": 2,
   "id": "4e3fed7c",
   "metadata": {},
   "outputs": [
    {
     "name": "stdout",
     "output_type": "stream",
     "text": [
      "{1, 'sandeep'}\n",
      "{2, 'kattupalli'}\n",
      "{'age', 3}\n",
      "{4, 'height'}\n"
     ]
    }
   ],
   "source": [
    "d={1:'sandeep',2:'kattupalli',3:'age',4:'height'}\n",
    "for i,j in d.items():\n",
    "    print({i,j})\n",
    "    "
   ]
  },
  {
   "cell_type": "code",
   "execution_count": 3,
   "id": "1ff2e695",
   "metadata": {},
   "outputs": [
    {
     "data": {
      "text/plain": [
       "['gephi', 'manoj', 'tarun']"
      ]
     },
     "execution_count": 3,
     "metadata": {},
     "output_type": "execute_result"
    }
   ],
   "source": [
    "my_dict={'student1':\"tarun\",'student2':'manoj','student3':'gephi'}\n",
    "my_dict.values()\n",
    "sorted(my_dict.values())"
   ]
  },
  {
   "cell_type": "code",
   "execution_count": 4,
   "id": "78fd9b70",
   "metadata": {},
   "outputs": [
    {
     "name": "stdout",
     "output_type": "stream",
     "text": [
      "{'bbb', 'green'}\n",
      "{'blue', 'bbb', 'green', 'yellow'}\n"
     ]
    }
   ],
   "source": [
    "setx=set(['green','bbb'])\n",
    "sety=set(['blue','yellow'])\n",
    "a=setx.union(sety)\n",
    "print(setx)\n",
    "print(a)"
   ]
  },
  {
   "cell_type": "code",
   "execution_count": 5,
   "id": "2df1f823",
   "metadata": {},
   "outputs": [
    {
     "name": "stdout",
     "output_type": "stream",
     "text": [
      "enter any stringmy name is ame\n",
      "count of all characters in entered string is : {'m': 3, 'y': 1, ' ': 3, 'n': 1, 'a': 2, 'e': 2, 'i': 1, 's': 1}\n"
     ]
    }
   ],
   "source": [
    "str=input('enter any string')\n",
    "dict={}\n",
    "for i in str:\n",
    "    if i in dict:\n",
    "        dict[i]+=1\n",
    "    else:\n",
    "        dict[i]=1\n",
    "print('count of all characters in entered string is :',dict)"
   ]
  },
  {
   "cell_type": "code",
   "execution_count": 1,
   "id": "a8234e81",
   "metadata": {},
   "outputs": [
    {
     "name": "stdout",
     "output_type": "stream",
     "text": [
      "enter the words of string:cat dog dog cat dog dog dog\n",
      "{'cat', 2}\n",
      "{'dog', 5}\n"
     ]
    }
   ],
   "source": [
    "string=input('enter the words of string:')\n",
    "words=string.split()\n",
    "word_count={}\n",
    "for word in words:\n",
    "    word_count[word]=words.count(word)\n",
    "for key, value in word_count.items():\n",
    "    print({value,key })"
   ]
  },
  {
   "cell_type": "code",
   "execution_count": 2,
   "id": "3b177bab",
   "metadata": {},
   "outputs": [
    {
     "name": "stdout",
     "output_type": "stream",
     "text": [
      "length of dictionary: 3\n",
      "enter the  subject : maths \n",
      " enter morks marks: 35\n",
      "enter the  subject : computer \n",
      " enter morks marks: 35\n",
      "enter the  subject : electrons\n",
      " enter morks marks: 35\n",
      "{'maths ': 35, 'computer ': 35, 'electrons': 35}\n"
     ]
    }
   ],
   "source": [
    "num=int(input(\"length of dictionary: \"))\n",
    "d={}\n",
    "for y in range(num):\n",
    "    key=input(\"enter the  subject : \")\n",
    "    value=int(input(\" enter morks marks: \"))\n",
    "    d.update({key:value})\n",
    "print(d)"
   ]
  },
  {
   "cell_type": "code",
   "execution_count": 2,
   "id": "a1b2e046",
   "metadata": {},
   "outputs": [
    {
     "name": "stdout",
     "output_type": "stream",
     "text": [
      "enter your series of 1s and 0s:1011\n"
     ]
    },
    {
     "data": {
      "text/plain": [
       "[True, False, True, True]"
      ]
     },
     "execution_count": 2,
     "metadata": {},
     "output_type": "execute_result"
    }
   ],
   "source": [
    "j=input('enter your series of 1s and 0s:')\n",
    "k=[]\n",
    "for x in j:\n",
    "    if x=='1':\n",
    "        k.append(True)\n",
    "    else:\n",
    "        k.append(False)\n",
    "k        "
   ]
  },
  {
   "cell_type": "code",
   "execution_count": 4,
   "id": "1e1a054c",
   "metadata": {},
   "outputs": [
    {
     "name": "stdout",
     "output_type": "stream",
     "text": [
      "enter s to start the game:s\n",
      "you are player 1 enter ur choice rock, paper or scissors:paper\n",
      "you are player 2 enter ur choice rock, paper or scissors:rock\n",
      "player 1  win\n",
      "press s to play again. To exit press any key other than ss\n",
      "you are player 1 enter ur choice rock, paper or scissors:rock\n",
      "you are player 2 enter ur choice rock, paper or scissors:paper\n",
      "player 2 win\n",
      "press s to play again. To exit press any key other than sss\n"
     ]
    }
   ],
   "source": [
    "game=input('enter s to start the game:')\n",
    "while game=='s':\n",
    "    p1=input('you are player 1 enter ur choice rock, paper or scissors:')\n",
    "    p2=input('you are player 2 enter ur choice rock, paper or scissors:')\n",
    "    if p1==p2:\n",
    "        print('Tie')\n",
    "    elif (p1=='rock' and p2=='scissors') or (p1=='paper' and p2=='rock') or (p1=='scissors' and p2=='paper'):\n",
    "        print('player 1  win')\n",
    "    else:\n",
    "        print('player 2 win')\n",
    "    ag=input('press s to play again. To exit press any key other than s')\n",
    "    if ag=='s':\n",
    "        continue\n",
    "    else:\n",
    "        break"
   ]
  },
  {
   "cell_type": "code",
   "execution_count": null,
   "id": "b7f9114c",
   "metadata": {},
   "outputs": [],
   "source": []
  }
 ],
 "metadata": {
  "kernelspec": {
   "display_name": "Python 3 (ipykernel)",
   "language": "python",
   "name": "python3"
  },
  "language_info": {
   "codemirror_mode": {
    "name": "ipython",
    "version": 3
   },
   "file_extension": ".py",
   "mimetype": "text/x-python",
   "name": "python",
   "nbconvert_exporter": "python",
   "pygments_lexer": "ipython3",
   "version": "3.10.9"
  }
 },
 "nbformat": 4,
 "nbformat_minor": 5
}
