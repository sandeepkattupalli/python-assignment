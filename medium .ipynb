{
 "cells": [
  {
   "cell_type": "code",
   "execution_count": 18,
   "id": "ba454deb",
   "metadata": {},
   "outputs": [
    {
     "data": {
      "text/plain": [
       "'222'"
      ]
     },
     "execution_count": 18,
     "metadata": {},
     "output_type": "execute_result"
    }
   ],
   "source": [
    "#Create a function that takes two number strings and returns their sum as a string.\n",
    "def add(n1, n2):\n",
    "    if  n1.isdigit() and n2.isdigit():\n",
    "        return str(int(n1) + int(n2))\n",
    "    else:\n",
    "        return \"Invalid Operation\"\n",
    "add(\"\", \"20\")\n",
    "add(\"10\", \"80\")\n",
    "add(\"111\", \"111\")"
   ]
  },
  {
   "cell_type": "code",
   "execution_count": 7,
   "id": "f0328e6d",
   "metadata": {},
   "outputs": [
    {
     "data": {
      "text/plain": [
       "14"
      ]
     },
     "execution_count": 7,
     "metadata": {},
     "output_type": "execute_result"
    }
   ],
   "source": [
    "#Create a function to find only the root value of x in any quadratic equation ax^2 + bx + c.\n",
    "#The function will take three arguments:\n",
    "#a as the coefficient of x^2\n",
    "#b as the coefficient of x\n",
    "#c as the constant term\n",
    "def quadratic_equation(a, b, c):\n",
    "    discriminant=b**2-4*a*c\n",
    "    root=(-b+(discriminant**0.5))/ (2*a)\n",
    "    return int(root)\n",
    "quadratic_equation(1, -12, -28)"
   ]
  },
  {
   "cell_type": "code",
   "execution_count": 11,
   "id": "ef9ab1e3",
   "metadata": {},
   "outputs": [
    {
     "data": {
      "text/plain": [
       "[5, 6]"
      ]
     },
     "execution_count": 11,
     "metadata": {},
     "output_type": "execute_result"
    }
   ],
   "source": [
    "#In each input list, every number repeats at least once, except for two.\n",
    "#Write a function that returns the two unique numbers.\n",
    "def return_unique(lst):\n",
    "    lst1=[]\n",
    "    for x in lst:\n",
    "        if lst.count(x)==1:\n",
    "            lst1.append(x)\n",
    "        else:\n",
    "            continue\n",
    "    return lst1\n",
    "return_unique([9, 5, 6, 8, 7, 7, 1, 1, 1, 1, 1, 9, 8])"
   ]
  },
  {
   "cell_type": "code",
   "execution_count": 20,
   "id": "ca0002a2",
   "metadata": {},
   "outputs": [
    {
     "data": {
      "text/plain": [
       "'None'"
      ]
     },
     "execution_count": 20,
     "metadata": {},
     "output_type": "execute_result"
    }
   ],
   "source": [
    "#Create a function that takes two parameters and, if both parameters are strings,\n",
    "#add them as if they were integers or if the two parameters are integers, concatenate them.\n",
    "def stupid_addition(a, b):\n",
    "    if type(a)==str and type(b)==str:\n",
    "        return int(a)+int(b)\n",
    "    elif type(a)==int and type(b)==int:\n",
    "        return str(a)+str(b)\n",
    "    else:\n",
    "        return \"None\"\n",
    "stupid_addition(\"1\", 2)      "
   ]
  },
  {
   "cell_type": "code",
   "execution_count": 23,
   "id": "5a92fd1b",
   "metadata": {},
   "outputs": [
    {
     "data": {
      "text/plain": [
       "'UAAUCGCGCUAUAUGCGCAUG'"
      ]
     },
     "execution_count": 23,
     "metadata": {},
     "output_type": "execute_result"
    }
   ],
   "source": [
    "#Transcribe the given DNA strand into corresponding mRNA - a type of RNA, that will be formed from it after transcription.\n",
    "#DNA has the bases A, T, G and C, while RNA converts to U, A, C and G respectively.\n",
    "def dna_to_rna(DNA):\n",
    "    RNA= \"\"\n",
    "    for bases in DNA:\n",
    "        if bases == \"A\":\n",
    "            RNA += \"U\"\n",
    "        elif bases == \"T\":\n",
    "            RNA += \"A\"\n",
    "        elif bases == \"G\":\n",
    "            RNA += \"C\"\n",
    "        elif bases == \"C\":\n",
    "            RNA += \"G\"\n",
    "    return RNA\n",
    "dna_to_rna(\"ATTAGCGCGATATACGCGTAC\")"
   ]
  },
  {
   "cell_type": "code",
   "execution_count": 24,
   "id": "046fde1e",
   "metadata": {},
   "outputs": [
    {
     "data": {
      "text/plain": [
       "59400"
      ]
     },
     "execution_count": 24,
     "metadata": {},
     "output_type": "execute_result"
    }
   ],
   "source": [
    "#Create a function that takes three values:\n",
    "#h hours\n",
    "#m minutes\n",
    "#s seconds\n",
    "#Return the value that's the longest duration\n",
    "def longest_time(h, m, s):\n",
    "    Hour=h*3600\n",
    "    Min=h*60\n",
    "    Sec=s*1\n",
    "    if Hour>Min and Hour>Sec:\n",
    "        return h\n",
    "    elif Min>Hour  and Min>Sec:\n",
    "        return m\n",
    "    else:\n",
    "        return s\n",
    "longest_time(15, 955, 59400)\n",
    "    "
   ]
  },
  {
   "cell_type": "code",
   "execution_count": 42,
   "id": "d359b047",
   "metadata": {},
   "outputs": [
    {
     "data": {
      "text/plain": [
       "'Nothing'"
      ]
     },
     "execution_count": 42,
     "metadata": {},
     "output_type": "execute_result"
    }
   ],
   "source": [
    "#YouTube currently displays a like and a dislike button, allowing you to express your opinions about particular content.\n",
    "#It's set up in such a way that you cannot like and dislike a video at the same time.\n",
    "\n",
    "#There are two other interesting rules to be noted about the interface:\n",
    "\n",
    "#Pressing a button, which is already active, will undo your press.\n",
    "#If you press the like button after pressing the dislike button, the like button overwrites the previous \"dislike\" state.\n",
    "#The same is true for the other way round.\n",
    "#Create a function that takes in a list of button inputs and returns the final state.\n",
    "def like_or_dislike(lst):\n",
    "    if \"Dislike\" in lst and\"Like\" in lst:\n",
    "        return \"like\"\n",
    "    elif \"like\" in lst:\n",
    "        return \"like\"\n",
    "    elif \"Dislike\" in lst:\n",
    "        return \"dislike\"\n",
    "    else:\n",
    "        return \"Nothing\"\n",
    "like_or_dislike([\"Like\", \"Like\"])\n",
    "\n",
    "like_or_dislike([\"Dislike\", \"Like\"])\n",
    "like_or_dislike([\"Like\", \"Like\"]) "
   ]
  },
  {
   "cell_type": "code",
   "execution_count": 45,
   "id": "cfcc5efb",
   "metadata": {},
   "outputs": [
    {
     "data": {
      "text/plain": [
       "'Oddish'"
      ]
     },
     "execution_count": 45,
     "metadata": {},
     "output_type": "execute_result"
    }
   ],
   "source": [
    "#Create a function that determines whether a number is Oddish or Evenish.\n",
    "#A number is Oddish if the sum of all of its digits is odd, and a number is Evenish if the sum of all of its digits is even.\n",
    "#If a number is Oddish, return \"Oddish\". Otherwise, return \"Evenish\".\n",
    "\n",
    "#For example, oddish_or_evenish(121) should return \"Evenish\", since 1 + 2 + 1 = 4.\n",
    "#oddish_or_evenish(41) should return \"Oddish\", since 4 + 1 = 5.\n",
    "def oddish_or_evenish(num):\n",
    "    x=str(num)\n",
    "    sum1=0\n",
    "    for y in x:\n",
    "        sum1+=int(y)\n",
    "    if sum1%2==0:\n",
    "        return \"Evenish\"\n",
    "    else:\n",
    "        return \"Oddish\"\n",
    "oddish_or_evenish(43)"
   ]
  },
  {
   "cell_type": "code",
   "execution_count": 3,
   "id": "03af543c",
   "metadata": {},
   "outputs": [
    {
     "data": {
      "text/plain": [
       "'The code is ******'"
      ]
     },
     "execution_count": 3,
     "metadata": {},
     "output_type": "execute_result"
    }
   ],
   "source": [
    "#Create a function that takes a string and censors words over four characters with *.\n",
    "def censor(s):\n",
    "    st=s.split()\n",
    "    for x in range(len(st)):\n",
    "        if len(st[x])>4:\n",
    "            y=len(st[x])\n",
    "            st[x]=\"*\"*y\n",
    "        else:\n",
    "            continue\n",
    "    return \" \".join(st)\n",
    "censor(\"The code is fourty\")\n",
    "    "
   ]
  },
  {
   "cell_type": "code",
   "execution_count": 4,
   "id": "0617ba97",
   "metadata": {},
   "outputs": [
    {
     "data": {
      "text/plain": [
       "['The', 'code', 'is', 'fourty']"
      ]
     },
     "execution_count": 4,
     "metadata": {},
     "output_type": "execute_result"
    }
   ],
   "source": [
    "\"The code is fourty\".split()"
   ]
  },
  {
   "cell_type": "code",
   "execution_count": 16,
   "id": "4e46b4e7",
   "metadata": {},
   "outputs": [
    {
     "data": {
      "text/plain": [
       "'-+-+-+'"
      ]
     },
     "execution_count": 16,
     "metadata": {},
     "output_type": "execute_result"
    }
   ],
   "source": [
    "#Given two strings comprised of + and -, return a new string which shows how the two strings interact in the following way:\n",
    "\n",
    "#When positives and positives interact, they remain positive.\n",
    "#When negatives and negatives interact, they remain negative.\n",
    "#But when negatives and positives interact, they become neutral, and are shown as the number 0.\n",
    "def neutralise(s1, s2):\n",
    "    sub_neutralise = \"\"\n",
    "    for i in range(len(s1)):\n",
    "        a = s1[i]\n",
    "        b = s2[i]\n",
    "        \n",
    "        if a == \"+\" and b == \"+\":\n",
    "            sub_neutralise += \"+\"\n",
    "        elif a == \"-\" and b == \"-\":\n",
    "            sub_neutralise += \"-\"\n",
    "        else:\n",
    "            sub_neutralise += \"0\"\n",
    "    \n",
    "    return sub_neutralise\n",
    "neutralise(\"--++--\", \"++--++\")\n",
    "neutralise(\"-+-+-+\", \"-+-+-+\")"
   ]
  },
  {
   "cell_type": "code",
   "execution_count": 22,
   "id": "f6650ce4",
   "metadata": {},
   "outputs": [
    {
     "data": {
      "text/plain": [
       "True"
      ]
     },
     "execution_count": 22,
     "metadata": {},
     "output_type": "execute_result"
    }
   ],
   "source": [
    "#Write a function that takes a list of two numbers and determines\n",
    "#if the sum of the digits in each number are equal to each other.\n",
    "def is_equal(lst):\n",
    "    num1=lst[0]\n",
    "    num2=lst[1]\n",
    "    sum1=0\n",
    "    sum2=0\n",
    "    for digit in str(num1):\n",
    "        sum1+=int(digit)\n",
    "    for digit in str(num2):\n",
    "        sum2+=int(digit)\n",
    "    if sum1==sum2:\n",
    "        return True\n",
    "    else:\n",
    "        return False\n",
    "is_equal([105, 42]) \n",
    "# 1 + 0 + 5 = 6\n",
    "# 4 + 2 = 6\n",
    "        \n",
    "\n"
   ]
  },
  {
   "cell_type": "code",
   "execution_count": 20,
   "id": "e79272cb",
   "metadata": {},
   "outputs": [
    {
     "name": "stdout",
     "output_type": "stream",
     "text": [
      "2\n"
     ]
    }
   ],
   "source": []
  },
  {
   "cell_type": "code",
   "execution_count": null,
   "id": "059b1987",
   "metadata": {},
   "outputs": [],
   "source": []
  }
 ],
 "metadata": {
  "kernelspec": {
   "display_name": "Python 3 (ipykernel)",
   "language": "python",
   "name": "python3"
  },
  "language_info": {
   "codemirror_mode": {
    "name": "ipython",
    "version": 3
   },
   "file_extension": ".py",
   "mimetype": "text/x-python",
   "name": "python",
   "nbconvert_exporter": "python",
   "pygments_lexer": "ipython3",
   "version": "3.10.9"
  }
 },
 "nbformat": 4,
 "nbformat_minor": 5
}
