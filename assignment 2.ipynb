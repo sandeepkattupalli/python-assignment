{
 "cells": [
  {
   "cell_type": "code",
   "execution_count": 1,
   "id": "39319651",
   "metadata": {},
   "outputs": [
    {
     "name": "stdout",
     "output_type": "stream",
     "text": [
      "enter number 1:2\n",
      "enter number 2:4\n",
      "multiplication number is: 8\n",
      "division number is : 0.5\n"
     ]
    }
   ],
   "source": [
    "#write a program to accept two numbers from the user \n",
    "#and calculate multiplication,division\n",
    "num1=int(input('enter number 1:'))\n",
    "num2=int(input('enter number 2:'))\n",
    "mul=num1*num2\n",
    "division =num1/num2\n",
    "print('multiplication number is:',mul)\n",
    "print('division number is :',division)"
   ]
  },
  {
   "cell_type": "code",
   "execution_count": 2,
   "id": "5d3fb6c1",
   "metadata": {},
   "outputs": [
    {
     "name": "stdout",
     "output_type": "stream",
     "text": [
      "6\n",
      "False\n"
     ]
    }
   ],
   "source": [
    "#write a python program which will print true if the input number is divisible by 5 or else false \n",
    "num=int(input ())\n",
    "if num%5==0:\n",
    "    print(True)\n",
    "else:\n",
    "    print(False)"
   ]
  },
  {
   "cell_type": "code",
   "execution_count": 3,
   "id": "771e6f6c",
   "metadata": {},
   "outputs": [
    {
     "name": "stdout",
     "output_type": "stream",
     "text": [
      "44\n",
      "55\n",
      "product is 2420\n"
     ]
    }
   ],
   "source": [
    "# given two integer  numbers return their product only  \n",
    "# if the product is greater then 1000,else return their sum\n",
    "num1=int(input())\n",
    "num2=int(input())\n",
    "product=num1*num2\n",
    "if product>1000:\n",
    "    print('product is',product)\n",
    "else:\n",
    "    print('sum is',num1+num2)"
   ]
  },
  {
   "cell_type": "code",
   "execution_count": 4,
   "id": "7119197a",
   "metadata": {},
   "outputs": [
    {
     "name": "stdout",
     "output_type": "stream",
     "text": [
      "sandeepkattupalli\n"
     ]
    },
    {
     "data": {
      "text/plain": [
       "str"
      ]
     },
     "execution_count": 4,
     "metadata": {},
     "output_type": "execute_result"
    }
   ],
   "source": [
    "#write a python program to convert all even indexed alphabets to upper and  odd indexed char\n",
    "string=input()\n",
    "a=0\n",
    "str1=''\n",
    "while a<len(string):\n",
    "    if a%2==0:\n",
    "        str1=str1+string.upper()\n",
    "    else:\n",
    "        str1=str1+string.lower()\n",
    "    a+=1\n",
    "str"
   ]
  },
  {
   "cell_type": "code",
   "execution_count": 5,
   "id": "70e89447",
   "metadata": {},
   "outputs": [
    {
     "name": "stdout",
     "output_type": "stream",
     "text": [
      "starting char is :  pj\n",
      "my middle char is :  tv\n",
      "my ending char is  : ns\n",
      " output:  pjtvns\n"
     ]
    }
   ],
   "source": [
    "#given two strings x,y write a program to return \n",
    "#a new string made of x and y's first midle ,and last characters\n",
    "x='python'\n",
    "y='javas'\n",
    "starting=x[0]+y[0]\n",
    "print( 'starting char is : ',starting)\n",
    "middle_x=len(x)//2-1\n",
    "middle_y=len(y)//2\n",
    "if len(x)%2==0:\n",
    "    middle=x[middle_x]\n",
    "if len (y)%2!=0:\n",
    "    middle+=y[middle_y]\n",
    "    \n",
    "print('my middle char is : ',middle)\n",
    "ending=x[-1]+y[-1]\n",
    "print('my ending char is  :',ending)\n",
    "print(' output: ',starting+middle+ending)"
   ]
  },
  {
   "cell_type": "code",
   "execution_count": 6,
   "id": "93c96c27",
   "metadata": {},
   "outputs": [
    {
     "name": "stdout",
     "output_type": "stream",
     "text": [
      "sandeep\n",
      "ade\n",
      "snep\n"
     ]
    }
   ],
   "source": [
    "#write a program to print the characters from a string that are present at an even index\n",
    "name=input ()\n",
    "even_charactors=name[ : :2]\n",
    "even_char=name[1: :2]\n",
    "print(even_char)\n",
    "print(even_charactors)"
   ]
  },
  {
   "cell_type": "code",
   "execution_count": 7,
   "id": "be0858f0",
   "metadata": {},
   "outputs": [
    {
     "name": "stdout",
     "output_type": "stream",
     "text": [
      "sandeep\n",
      "ade\n"
     ]
    }
   ],
   "source": [
    "#write a program to print the character from a string that are present at an odd index \n",
    "name=input()\n",
    "odd_char=name[1: :2]\n",
    "print(odd_char)"
   ]
  },
  {
   "cell_type": "code",
   "execution_count": 15,
   "id": "4c11fb0e",
   "metadata": {},
   "outputs": [
    {
     "name": "stdout",
     "output_type": "stream",
     "text": [
      "enter the names sandeep,kevin,vamsi\n",
      "sandeep\n",
      "kevin\n",
      "vamsi\n"
     ]
    }
   ],
   "source": [
    "# write a python program to take three names  \n",
    "#as input from an user single input function call.\n",
    "names=input ('enter the names ') . split(',')\n",
    "if True:\n",
    "    name1,name2,name3=names\n",
    "    print(name1)\n",
    "    print(name2)\n",
    "    print(name3)\n"
   ]
  },
  {
   "cell_type": "code",
   "execution_count": 16,
   "id": "12de9781",
   "metadata": {},
   "outputs": [
    {
     "name": "stdout",
     "output_type": "stream",
     "text": [
      "sing\n",
      "sly\n"
     ]
    }
   ],
   "source": [
    "#write a python program to add 'ing' at the end of a given string \n",
    "#string length should be equal to or more then 3\n",
    "#if the given string already ends with 'ing'then add ly instead \n",
    "#if the string length of the given string is less then 3,leave it un change.\n",
    "name=input()\n",
    "if len(name)<3:\n",
    "    print(name)\n",
    "if name.endswith('ing'):\n",
    "   name1=name.replace('ing','ly')\n",
    "   print(name1)"
   ]
  },
  {
   "cell_type": "code",
   "execution_count": 10,
   "id": "58e1e082",
   "metadata": {},
   "outputs": [
    {
     "name": "stdout",
     "output_type": "stream",
     "text": [
      "20\n",
      "50\n",
      "False\n"
     ]
    }
   ],
   "source": [
    "#write a python program  that accepts two inputs \n",
    "#num1 and num2 print true  if one of them is 10 or \n",
    "# if their sum is 10 otherwise print false \n",
    "num1=int(input())\n",
    "num2=int(input())\n",
    "if num1==10 or num2==10 or num1+num2==10:\n",
    "    print(True)\n",
    "else :\n",
    "    print(False)"
   ]
  },
  {
   "cell_type": "code",
   "execution_count": 11,
   "id": "886773dd",
   "metadata": {},
   "outputs": [
    {
     "name": "stdout",
     "output_type": "stream",
     "text": [
      "2\n",
      "5\n",
      "65\n",
      "False\n"
     ]
    }
   ],
   "source": [
    "#write a python program that accepts three inputs\n",
    "# x,y,z print true if x*y>z otherwise false \n",
    "x=int(input ())\n",
    "y=int(input ())\n",
    "z=int(input ())\n",
    "if x*y>z:\n",
    "    print(True)\n",
    "else: print(False)"
   ]
  },
  {
   "cell_type": "code",
   "execution_count": 12,
   "id": "fa6d70b6",
   "metadata": {},
   "outputs": [
    {
     "name": "stdout",
     "output_type": "stream",
     "text": [
      "sandeep\n",
      "sandeep\n",
      "True\n"
     ]
    }
   ],
   "source": [
    "#write a python program that accepts two strings inputs return true \n",
    "#depending on whether the two number of character in the first string \n",
    "#is an equal to the total number of charactres in the second string\n",
    "string1=input()\n",
    "string2=input()\n",
    "if len(string1)==len(string2):\n",
    "    print(True)\n",
    "else:\n",
    "    print(False)"
   ]
  },
  {
   "cell_type": "code",
   "execution_count": 13,
   "id": "21f12dbd",
   "metadata": {},
   "outputs": [
    {
     "name": "stdout",
     "output_type": "stream",
     "text": [
      "enter the word sandeep\n",
      "the word in not plural\n"
     ]
    }
   ],
   "source": [
    "#rite a python program that takes in a word and determines \n",
    "#whether or not it is plural .A plural word is one end in 's':\n",
    "word=input('enter the word ')\n",
    "if word.endswith('s'):\n",
    "    print('the word is plural')\n",
    "else:  print('the word in not plural')"
   ]
  },
  {
   "cell_type": "code",
   "execution_count": 17,
   "id": "d369afee",
   "metadata": {},
   "outputs": [
    {
     "name": "stdout",
     "output_type": "stream",
     "text": [
      "enter  a String: mummy\n",
      "mu@@y\n"
     ]
    }
   ],
   "source": [
    "x=input(\"enter  a String: \")\n",
    "a=x[0]\n",
    "for y in range(1,len(x)):\n",
    "    if x[y]==x[0]:\n",
    "        a+=\"@\"\n",
    "    else:\n",
    "        a+=x[y]\n",
    "print(a)"
   ]
  },
  {
   "cell_type": "code",
   "execution_count": 9,
   "id": "f127de86",
   "metadata": {},
   "outputs": [
    {
     "name": "stdout",
     "output_type": "stream",
     "text": [
      "enter  Your age: 21\n",
      " True or false: true\n",
      "not take a drink\n"
     ]
    }
   ],
   "source": [
    "age=int(input(\"enter  Your age: \"))\n",
    "condition =input(\" True or false: \")\n",
    "if age>=18 and condition==\"False\" :\n",
    "    print(\"take a  drink\")\n",
    "else:\n",
    "    print(\"not take a drink\")"
   ]
  },
  {
   "cell_type": "code",
   "execution_count": null,
   "id": "09668b49",
   "metadata": {},
   "outputs": [],
   "source": []
  }
 ],
 "metadata": {
  "kernelspec": {
   "display_name": "Python 3 (ipykernel)",
   "language": "python",
   "name": "python3"
  },
  "language_info": {
   "codemirror_mode": {
    "name": "ipython",
    "version": 3
   },
   "file_extension": ".py",
   "mimetype": "text/x-python",
   "name": "python",
   "nbconvert_exporter": "python",
   "pygments_lexer": "ipython3",
   "version": "3.10.9"
  }
 },
 "nbformat": 4,
 "nbformat_minor": 5
}
