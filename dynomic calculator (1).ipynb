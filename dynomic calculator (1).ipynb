{
 "cells": [
  {
   "cell_type": "code",
   "execution_count": 2,
   "id": "70ab5bd3",
   "metadata": {},
   "outputs": [
    {
     "name": "stdout",
     "output_type": "stream",
     "text": [
      "enter a start or stopstart\n",
      "enter number :2\n",
      "enter the operator-\n",
      "enter number :0\n",
      "2\n",
      "enter a start or stopstop\n"
     ]
    }
   ],
   "source": [
    "while True :\n",
    "    x1  = input('enter a start or stop')\n",
    "    if x1 == 'stop':\n",
    "        break\n",
    "    else:\n",
    "        \n",
    "        x = input('enter number :')\n",
    "        if x.isalpha():\n",
    "            print('wrong input ')\n",
    "            break\n",
    "        op = input('enter the operator')\n",
    "        if op.isdigit():\n",
    "            print('wrong input')\n",
    "            break\n",
    "        num = int(input('enter number :'))\n",
    "        x=int(x)\n",
    "        if op == '+':\n",
    "            print(x+num)\n",
    "        elif op == '-':\n",
    "            print(x-num)\n",
    "        elif op == '*':\n",
    "            print(x*num)\n",
    "        elif op == '**':\n",
    "            print(x**num)\n",
    "        elif op == '/':\n",
    "            print(x/num)\n",
    "        elif op == '//':\n",
    "            print(x//num)"
   ]
  },
  {
   "cell_type": "code",
   "execution_count": null,
   "id": "5947843a",
   "metadata": {},
   "outputs": [],
   "source": []
  },
  {
   "cell_type": "code",
   "execution_count": null,
   "id": "7db8a592",
   "metadata": {},
   "outputs": [],
   "source": []
  }
 ],
 "metadata": {
  "kernelspec": {
   "display_name": "Python 3 (ipykernel)",
   "language": "python",
   "name": "python3"
  },
  "language_info": {
   "codemirror_mode": {
    "name": "ipython",
    "version": 3
   },
   "file_extension": ".py",
   "mimetype": "text/x-python",
   "name": "python",
   "nbconvert_exporter": "python",
   "pygments_lexer": "ipython3",
   "version": "3.10.9"
  }
 },
 "nbformat": 4,
 "nbformat_minor": 5
}
