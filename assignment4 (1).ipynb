{
 "cells": [
  {
   "cell_type": "code",
   "execution_count": 1,
   "id": "a06a85f1",
   "metadata": {},
   "outputs": [
    {
     "name": "stdout",
     "output_type": "stream",
     "text": [
      "enter your number 4\n",
      "enter the element1\n",
      "enter the element2\n",
      "enter the element3\n",
      "enter the element4\n"
     ]
    },
    {
     "data": {
      "text/plain": [
       "[1, 2, 3, 4]"
      ]
     },
     "execution_count": 1,
     "metadata": {},
     "output_type": "execute_result"
    }
   ],
   "source": [
    "a=[]\n",
    "num=int(input('enter your number '))\n",
    "for i in range(num):\n",
    "    \n",
    "     a.append(int(input('enter the element')))\n",
    "a"
   ]
  },
  {
   "cell_type": "code",
   "execution_count": 2,
   "id": "6e2beaa7",
   "metadata": {},
   "outputs": [
    {
     "name": "stdout",
     "output_type": "stream",
     "text": [
      "1\n",
      "34\n",
      "46\n",
      "4\n",
      "5\n",
      "67\n",
      "3\n",
      "4\n",
      "5\n",
      "6\n"
     ]
    }
   ],
   "source": [
    "a=[1,34,46,4,5,67,3,4,5,6]\n",
    "for i in a:\n",
    "    print(i)"
   ]
  },
  {
   "cell_type": "code",
   "execution_count": 3,
   "id": "6bfc094f",
   "metadata": {},
   "outputs": [
    {
     "name": "stdout",
     "output_type": "stream",
     "text": [
      "input of list [1, 2, 3, 4, 5, 6, 7, 'a']\n"
     ]
    },
    {
     "data": {
      "text/plain": [
       "[1, 3, 5, 7]"
      ]
     },
     "execution_count": 3,
     "metadata": {},
     "output_type": "execute_result"
    }
   ],
   "source": [
    "my_list=[1,2,3,4,5,6,7,'a']\n",
    "my1=[]\n",
    "print('input of list',my_list)\n",
    "for i in range (len(my_list)):\n",
    "    if (i%2)==0:\n",
    "         my1.append(my_list[i])\n",
    "        \n",
    "my1"
   ]
  },
  {
   "cell_type": "code",
   "execution_count": 4,
   "id": "752923c3",
   "metadata": {},
   "outputs": [
    {
     "name": "stdout",
     "output_type": "stream",
     "text": [
      "product of list value is : 24\n",
      "sum of list value is : 10\n"
     ]
    }
   ],
   "source": [
    "my_list=[1,2,3,4]\n",
    "a=1\n",
    "b=0\n",
    "for i in  my_list:\n",
    "    a=a*i\n",
    "    b=b+i\n",
    "print('product of list value is :',a)\n",
    "print('sum of list value is :',b)"
   ]
  },
  {
   "cell_type": "code",
   "execution_count": 5,
   "id": "ee958acb",
   "metadata": {},
   "outputs": [
    {
     "name": "stdout",
     "output_type": "stream",
     "text": [
      "before  sorting list:  [8, 4, 11, 7, 90]\n",
      "after sorting the list: [4, 7, 8, 11, 90]\n",
      "max value is : 90\n",
      "min  value is : 4\n"
     ]
    }
   ],
   "source": [
    "my_list=[8,4,11,7,90]\n",
    "print('before  sorting list: ',my_list)\n",
    "my_list.sort()\n",
    "print('after sorting the list:',my_list)\n",
    "print('max value is :',my_list[-1])\n",
    "print('min  value is :',my_list[0])"
   ]
  },
  {
   "cell_type": "code",
   "execution_count": 6,
   "id": "d3ce96e7",
   "metadata": {},
   "outputs": [
    {
     "name": "stdout",
     "output_type": "stream",
     "text": [
      "red\n",
      "yellow\n",
      "using for loop ['green', 'white', 'pink']\n",
      "my list using of slicing  ['green', 'white', 'pink']\n"
     ]
    }
   ],
   "source": [
    "my_list=['red','green','white','pink','yellow']\n",
    "new=[]\n",
    "for i in my_list:\n",
    "    if i=='green' or i=='white' or i=='pink':\n",
    "        new.append(i)\n",
    "    else:\n",
    "         print(i)\n",
    "print('using for loop',new)  \n",
    "print('my list using of slicing ',my_list[1:4])"
   ]
  },
  {
   "cell_type": "code",
   "execution_count": 7,
   "id": "7858f773",
   "metadata": {},
   "outputs": [
    {
     "name": "stdout",
     "output_type": "stream",
     "text": [
      "['sandeep', '001', 'aa', 'bb']\n",
      "an string element is:  sandeep001aabb\n",
      "type of c  is  <class 'str'>\n"
     ]
    }
   ],
   "source": [
    "my_list=['sandeep','001','aa','bb']\n",
    "print(my_list)\n",
    "b=''\n",
    "for i in my_list:\n",
    "       b=b+i\n",
    "       c=str(b)\n",
    "print('an string element is: ',c)\n",
    "print('type of c  is ',type(c))"
   ]
  },
  {
   "cell_type": "code",
   "execution_count": 8,
   "id": "048f1be9",
   "metadata": {},
   "outputs": [
    {
     "name": "stdout",
     "output_type": "stream",
     "text": [
      "enter your range3\n",
      "enter the number :1\n",
      "enter the number :2\n",
      "enter the number :3\n",
      "[1, 2, 3]\n",
      "average of given list is : 2.0\n"
     ]
    }
   ],
   "source": [
    "num=int(input('enter your range'))\n",
    "a=[]\n",
    "b=0\n",
    "for i in range(num):\n",
    "    c=int(input ('enter the number :'))\n",
    "    a.append(c)\n",
    "print(a)\n",
    "for j in a:\n",
    "    b=b+j\n",
    "avg = b/num\n",
    "print('average of given list is :',avg)"
   ]
  },
  {
   "cell_type": "code",
   "execution_count": 9,
   "id": "d2f28d6f",
   "metadata": {},
   "outputs": [
    {
     "name": "stdout",
     "output_type": "stream",
     "text": [
      "[10, 'a', 2, 3, 5.5, 1.34, 'Abc', 'rt']\n",
      "5\n"
     ]
    }
   ],
   "source": [
    "my_list=[10,'a',2,3,5.5,1.34,'Abc','rt']\n",
    "print(my_list)\n",
    "count=0\n",
    "for i in  my_list:\n",
    "    if str(i).replace('.','').isdecimal():\n",
    "        count = count + 1 \n",
    "    else:\n",
    "        count= count\n",
    "print(count)"
   ]
  },
  {
   "cell_type": "code",
   "execution_count": 10,
   "id": "644de0de",
   "metadata": {},
   "outputs": [
    {
     "name": "stdout",
     "output_type": "stream",
     "text": [
      "an list elements is : [1, 2, 3, 4]\n",
      "reverse list elements is : [4, 3, 2, 1]\n"
     ]
    }
   ],
   "source": [
    "lis=[1,2,3,4]\n",
    "print('an list elements is :',lis)\n",
    "reverse=(lis[ : :-1])\n",
    "print('reverse list elements is :',reverse)"
   ]
  },
  {
   "cell_type": "code",
   "execution_count": 11,
   "id": "ecda0fdb",
   "metadata": {},
   "outputs": [
    {
     "name": "stdout",
     "output_type": "stream",
     "text": [
      "my tuple t is  ('p', 'y', 't', 'h', 'o', 'n', '1', '.', '2')\n"
     ]
    }
   ],
   "source": [
    "my_string=('python1.2')\n",
    "t=('')\n",
    "for i in my_string:\n",
    "    t+=i\n",
    "    b= tuple(t)\n",
    "print('my tuple t is ',b)"
   ]
  },
  {
   "cell_type": "code",
   "execution_count": 12,
   "id": "11cc7b8e",
   "metadata": {},
   "outputs": [
    {
     "name": "stdout",
     "output_type": "stream",
     "text": [
      "enter the no of elements 4\n",
      "1\n",
      "2\n",
      "3\n",
      "4\n",
      "[1, 2, 3, 4]\n",
      "list:\n",
      "1\n",
      "2\n",
      "3\n",
      "4\n"
     ]
    }
   ],
   "source": [
    "a=[]\n",
    "\n",
    "n=int(input('enter the no of elements '))\n",
    "for i in range (n):\n",
    "    a.append(int(input ()))\n",
    "print(a)\n",
    "print('list:')\n",
    "for i in a :\n",
    "    print(i)"
   ]
  },
  {
   "cell_type": "code",
   "execution_count": null,
   "id": "0f5dd2e7",
   "metadata": {},
   "outputs": [],
   "source": []
  }
 ],
 "metadata": {
  "kernelspec": {
   "display_name": "Python 3 (ipykernel)",
   "language": "python",
   "name": "python3"
  },
  "language_info": {
   "codemirror_mode": {
    "name": "ipython",
    "version": 3
   },
   "file_extension": ".py",
   "mimetype": "text/x-python",
   "name": "python",
   "nbconvert_exporter": "python",
   "pygments_lexer": "ipython3",
   "version": "3.10.9"
  }
 },
 "nbformat": 4,
 "nbformat_minor": 5
}
