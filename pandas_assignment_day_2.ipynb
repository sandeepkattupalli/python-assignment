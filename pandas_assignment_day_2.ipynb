{
  "nbformat": 4,
  "nbformat_minor": 0,
  "metadata": {
    "colab": {
      "name": "pandas_assignment_day_2.ipynb",
      "provenance": []
    },
    "kernelspec": {
      "name": "python3",
      "display_name": "Python 3"
    },
    "language_info": {
      "name": "python"
    }
  },
  "cells": [
    {
      "cell_type": "code",
      "execution_count": null,
      "metadata": {
        "id": "bhTOLbs_Ehm9"
      },
      "outputs": [],
      "source": [
        "import pandas as pd\n",
        "import numpy as np\n",
        "data  = {'name': ['Anastasia', 'Dima', 'Katherine', 'James', 'Emily', 'Michael', 'Matthew', 'Laura', 'Kevin', 'Jonas'],\n",
        "        'score': [12.5, 9, 16.5, np.nan, 9, 20, 14.5, np.nan, 8, 19],\n",
        "        'attempts': [1, 3, 2, 3, 2, 3, 1, 1, 2, 1],\n",
        "        'qualify': ['yes', 'no', 'yes', 'no', 'no', 'yes', 'yes', 'no', 'no', 'yes']}\n",
        "labels = ['a', 'b', 'c', 'd', 'e', 'f', 'g', 'h', 'i', 'j']"
      ]
    },
    {
      "cell_type": "markdown",
      "source": [
        "##### Write a Pandas program to create a dataframe by given dictionary and index as lables"
      ],
      "metadata": {
        "id": "9vjkZPeWEvHd"
      }
    },
    {
      "cell_type": "markdown",
      "source": [
        "##### 1. Write a Pandas program to select the rows where the score is missing, i.e. is NaN"
      ],
      "metadata": {
        "id": "OiZKZd1uE017"
      }
    },
    {
      "cell_type": "code",
      "source": [
        "### code here"
      ],
      "metadata": {
        "id": "9qv74kyIEp2y"
      },
      "execution_count": null,
      "outputs": []
    },
    {
      "cell_type": "markdown",
      "source": [
        "##### 2. Write a Pandas program to change the score in row 'd' to 11.5."
      ],
      "metadata": {
        "id": "B8dwwn9kE81J"
      }
    },
    {
      "cell_type": "code",
      "source": [
        "### code here"
      ],
      "metadata": {
        "id": "UdEjtX3vE7Bh"
      },
      "execution_count": null,
      "outputs": []
    },
    {
      "cell_type": "markdown",
      "source": [
        "##### 3. Write a Pandas program to select the 'name' and 'score' columns from the following DataFrame."
      ],
      "metadata": {
        "id": "Okr3j2nRFDgB"
      }
    },
    {
      "cell_type": "code",
      "source": [
        "#### code here"
      ],
      "metadata": {
        "id": "DGnRW94GE6-M"
      },
      "execution_count": null,
      "outputs": []
    },
    {
      "cell_type": "markdown",
      "source": [
        "##### 4.  Write a Pandas program to calculate the mean score for each different student in DataFrame."
      ],
      "metadata": {
        "id": "J9AWes1qFHYB"
      }
    },
    {
      "cell_type": "code",
      "source": [
        "###  code here"
      ],
      "metadata": {
        "id": "bE7h0zxHE68K"
      },
      "execution_count": null,
      "outputs": []
    },
    {
      "cell_type": "markdown",
      "source": [
        "##### 5. Write a Pandas program to append a new row 'k' to data frame with any value for each column. Now delete the row 'c' and return the original DataFrame."
      ],
      "metadata": {
        "id": "ehJpYB-4FQk5"
      }
    },
    {
      "cell_type": "code",
      "source": [
        "### code here"
      ],
      "metadata": {
        "id": "V4Bk6ELVE66C"
      },
      "execution_count": null,
      "outputs": []
    },
    {
      "cell_type": "markdown",
      "source": [
        "###### import the titanic dataset"
      ],
      "metadata": {
        "id": "XNyWgnvzPJtB"
      }
    },
    {
      "cell_type": "markdown",
      "source": [
        "##### 1. Write a Pandas program to create a Pivot table and find the total fare amount class wise, gender wise."
      ],
      "metadata": {
        "id": "iuLfgdR_aGRN"
      }
    },
    {
      "cell_type": "code",
      "source": [
        "#### code here\n"
      ],
      "metadata": {
        "id": "YSdIFHOiPJME"
      },
      "execution_count": null,
      "outputs": []
    },
    {
      "cell_type": "markdown",
      "source": [
        "##### 2. Write a Pandas program to create a Pivot table and find survival rate by gender."
      ],
      "metadata": {
        "id": "tYu_krfykfNn"
      }
    },
    {
      "cell_type": "code",
      "source": [
        "### code here"
      ],
      "metadata": {
        "id": "cPeW2jg9aK9d"
      },
      "execution_count": null,
      "outputs": []
    },
    {
      "cell_type": "markdown",
      "source": [
        "###### 3. Write a Pandas to create to find the total count no of people survived pclass wise, class wise and gender wise."
      ],
      "metadata": {
        "id": "iKMEDh03kirD"
      }
    },
    {
      "cell_type": "code",
      "source": [
        "### code here"
      ],
      "metadata": {
        "id": "R6m1Ro9XaK_0"
      },
      "execution_count": null,
      "outputs": []
    },
    {
      "cell_type": "markdown",
      "source": [
        "###### 4. Write a Pandas program to create a Pivot table and calculate how many women and men were in a particular cabin class."
      ],
      "metadata": {
        "id": "K2ZCK2ZIndI3"
      }
    },
    {
      "cell_type": "code",
      "source": [
        "###  code here"
      ],
      "metadata": {
        "id": "xqa1LzXXaLC4"
      },
      "execution_count": null,
      "outputs": []
    },
    {
      "cell_type": "markdown",
      "source": [
        "##### 5. Write a Pandas program to count the number of missing values in each column."
      ],
      "metadata": {
        "id": "OPgD_NpIoiU5"
      }
    },
    {
      "cell_type": "code",
      "source": [
        "#### code here"
      ],
      "metadata": {
        "id": "NycLRT98aLFV"
      },
      "execution_count": null,
      "outputs": []
    },
    {
      "cell_type": "markdown",
      "source": [
        "##### 6. Write a Pandas program to replace null values with the value from the previous row or the next row in a given DataFrame."
      ],
      "metadata": {
        "id": "mTURStYZopZ4"
      }
    },
    {
      "cell_type": "code",
      "source": [
        "### code here"
      ],
      "metadata": {
        "id": "vI3QeLkmoolT"
      },
      "execution_count": null,
      "outputs": []
    },
    {
      "cell_type": "markdown",
      "source": [
        "###### 7. Write a Pandas program to replace nulls, with median or mean of the specified columns in a given DataFrame."
      ],
      "metadata": {
        "id": "EfLZmnm7poyM"
      }
    },
    {
      "cell_type": "code",
      "source": [
        "### code here"
      ],
      "metadata": {
        "id": "ul7lMb8Moom8"
      },
      "execution_count": null,
      "outputs": []
    },
    {
      "cell_type": "markdown",
      "source": [
        "###### 8. Write a Pandas program to select first 2 rows, 2 columns and specific two columns from the dataframe."
      ],
      "metadata": {
        "id": "gDLvNhwTCMY6"
      }
    },
    {
      "cell_type": "code",
      "source": [
        "#### code here"
      ],
      "metadata": {
        "id": "ccvzqbuVooph"
      },
      "execution_count": null,
      "outputs": []
    },
    {
      "cell_type": "markdown",
      "source": [
        "###### 9. Write a Pandas program to remove the duplicates from 'embark_town' column of titanic dataset."
      ],
      "metadata": {
        "id": "v538O1TjCh2q"
      }
    },
    {
      "cell_type": "code",
      "source": [
        "#### code here"
      ],
      "metadata": {
        "id": "ODv34t1hoota"
      },
      "execution_count": null,
      "outputs": []
    },
    {
      "cell_type": "markdown",
      "source": [
        "###### 10. Write a Pandas program to find out the survived is 1 details by the 'Southampton' in who is the 'child' from dataset."
      ],
      "metadata": {
        "id": "1qlIEVUbCwHZ"
      }
    },
    {
      "cell_type": "code",
      "source": [
        "### code here"
      ],
      "metadata": {
        "id": "oQCGZ9yeooxV"
      },
      "execution_count": null,
      "outputs": []
    },
    {
      "cell_type": "markdown",
      "source": [
        "###### 11. Write a Pandas program to filter all records starting from the 2nd row, access every 5th row from the dataframe."
      ],
      "metadata": {
        "id": "qtJ0lIN4Fz0D"
      }
    },
    {
      "cell_type": "code",
      "source": [
        "### code here"
      ],
      "metadata": {
        "id": "giKA3PuUaLHw"
      },
      "execution_count": null,
      "outputs": []
    },
    {
      "cell_type": "markdown",
      "source": [
        "###### 12. Write a Pandas program to filter those records where embarked matches with multiple values (C, Q) from the dataset."
      ],
      "metadata": {
        "id": "Rva2fqu0H85r"
      }
    },
    {
      "cell_type": "code",
      "source": [
        "#### code here"
      ],
      "metadata": {
        "id": "HGIAuFw_H8ZW"
      },
      "execution_count": null,
      "outputs": []
    }
  ]
}