{
 "cells": [
  {
   "cell_type": "code",
   "execution_count": 1,
   "id": "0eeffe83",
   "metadata": {},
   "outputs": [],
   "source": [
    "import numpy as np"
   ]
  },
  {
   "cell_type": "code",
   "execution_count": 13,
   "id": "fe56d70f",
   "metadata": {},
   "outputs": [
    {
     "data": {
      "text/plain": [
       "array([[b'0', b'16.99', b'1.01', ..., b'1', b'0', b'2'],\n",
       "       [b'1', b'10.34', b'1.66', ..., b'1', b'0', b'3'],\n",
       "       [b'2', b'21.01', b'3.5', ..., b'1', b'0', b'3'],\n",
       "       ...,\n",
       "       [b'241', b'22.67', b'2.0', ..., b'0', b'0', b'2'],\n",
       "       [b'242', b'17.82', b'1.75', ..., b'0', b'0', b'2'],\n",
       "       [b'243', b'18.78', b'3.0', ..., b'2', b'0', b'2']], dtype=object)"
      ]
     },
     "execution_count": 13,
     "metadata": {},
     "output_type": "execute_result"
    }
   ],
   "source": [
    "data=np.genfromtxt(r\"C:\\Users\\Lenovo\\Downloads\\tipsf.csv\",skip_header=1,delimiter=',',dtype=object,encoding=None)\n",
    "data"
   ]
  },
  {
   "cell_type": "code",
   "execution_count": 17,
   "id": "4f6591e3",
   "metadata": {},
   "outputs": [
    {
     "name": "stdout",
     "output_type": "stream",
     "text": [
      "total bill value is 4827.770000000001\n"
     ]
    }
   ],
   "source": [
    "tt_bill=np.sum(data,axis=0,dtype=float)[1]\n",
    "print(f'total bill value is {tt_bill}')"
   ]
  },
  {
   "cell_type": "code",
   "execution_count": 15,
   "id": "44558d70",
   "metadata": {},
   "outputs": [
    {
     "name": "stdout",
     "output_type": "stream",
     "text": [
      "no of males in lunch is 33\n",
      "no of males in dinner is 124\n",
      "no of females in lunch is 35\n",
      "no of females in dinner is 52\n"
     ]
    }
   ],
   "source": []
  },
  {
   "cell_type": "code",
   "execution_count": 18,
   "id": "f83372fc",
   "metadata": {},
   "outputs": [
    {
     "name": "stdout",
     "output_type": "stream",
     "text": [
      "total tip value is 731.58\n"
     ]
    }
   ],
   "source": [
    "tt_tip=np.sum(data,axis=0,dtype=float)[2]\n",
    "print(f'total tip value is {tt_tip}')"
   ]
  },
  {
   "cell_type": "code",
   "execution_count": 21,
   "id": "29e96bfe",
   "metadata": {},
   "outputs": [
    {
     "name": "stdout",
     "output_type": "stream",
     "text": [
      "minimum tip is 1.0\n",
      "maximum tip is 9.0\n"
     ]
    }
   ],
   "source": [
    "print(f'minimum tip is',float(np.min(data[:,2])))\n",
    "print(f'maximum tip is',float(np.max(data[:,2])))"
   ]
  },
  {
   "cell_type": "code",
   "execution_count": 22,
   "id": "13a55a99",
   "metadata": {},
   "outputs": [
    {
     "name": "stdout",
     "output_type": "stream",
     "text": [
      "average size is 2.569672131147541\n"
     ]
    }
   ],
   "source": [
    "print('average size is',np.mean(data[:,7],dtype=float))"
   ]
  },
  {
   "cell_type": "code",
   "execution_count": 23,
   "id": "73ef8801",
   "metadata": {},
   "outputs": [
    {
     "name": "stdout",
     "output_type": "stream",
     "text": [
      "no of males in lunch is 33\n",
      "no of males in dinner is 124\n",
      "no of females in lunch is 35\n",
      "no of females in dinner is 52\n"
     ]
    }
   ],
   "source": [
    "male_lunch=0;male_diner=0;female_lunch=0;female_diner=0\n",
    "for x in range(244):\n",
    "    if data[x,3]==b'1' and data[x,6]==b'1':\n",
    "        male_lunch+=1\n",
    "    elif data[x,3]==b'1' and data[x,6]==b'0':\n",
    "        male_diner+=1\n",
    "    elif data[x,3]==b'0' and data[x,6]==b'1':\n",
    "        female_lunch+=1\n",
    "    elif data[x,3]==b'0' and data[x,6]==b'0':\n",
    "        female_diner+=1\n",
    "print(f'no of males in lunch is {male_lunch}')\n",
    "print(f'no of males in dinner is {male_diner}')\n",
    "print(f'no of females in lunch is {female_lunch}')\n",
    "print(f'no of females in dinner is {female_diner}')"
   ]
  },
  {
   "cell_type": "code",
   "execution_count": 25,
   "id": "c2d4a957",
   "metadata": {},
   "outputs": [
    {
     "name": "stdout",
     "output_type": "stream",
     "text": [
      "number of smokers are 93\n",
      "number of male smokers are 60\n",
      "number of female smokers are 33\n"
     ]
    }
   ],
   "source": [
    "\n",
    "smoker=0;male_smoker=0;female_smoker=0\n",
    "for x in data[:,4]:\n",
    "    if x==b'1':\n",
    "        smoker+=1\n",
    "for x in range(244):\n",
    "    if data[x,3]==b'0' and data[x,4]==b'1':\n",
    "        female_smoker+=1\n",
    "    elif data[x,3]==b'1' and data[x,4]==b'1':\n",
    "        male_smoker+=1\n",
    "print(f'number of smokers are {smoker}')\n",
    "print(f'number of male smokers are {male_smoker}')\n",
    "print(f'number of female smokers are {female_smoker}')"
   ]
  },
  {
   "cell_type": "code",
   "execution_count": 26,
   "id": "9c0dd7d0",
   "metadata": {},
   "outputs": [
    {
     "name": "stdout",
     "output_type": "stream",
     "text": [
      "average male tip is 3.09\n",
      "average female tip is 2.833\n"
     ]
    }
   ],
   "source": [
    "tt_male_tip=0;tt_female_tip=0;a=0;b=0\n",
    "for x in range(244):\n",
    "    if data[x,3]==b'0':\n",
    "        tt_female_tip+=float(data[x,2])\n",
    "        a+=1\n",
    "    else:\n",
    "        tt_male_tip+=float(data[x,2])\n",
    "        b+=1\n",
    "print('average male tip is',round((tt_male_tip/b),3))\n",
    "print('average female tip is',round((tt_female_tip/a),3))"
   ]
  },
  {
   "cell_type": "code",
   "execution_count": 31,
   "id": "91dff172",
   "metadata": {},
   "outputs": [
    {
     "data": {
      "text/plain": [
       "array([[b'16.99', b'1.01', b'\"Female\"', ..., b'\"Sun\"', b'\"Dinner\"', b'2'],\n",
       "       [b'10.34', b'1.66', b'\"Male\"', ..., b'\"Sun\"', b'\"Dinner\"', b'3'],\n",
       "       [b'21.01', b'3.5', b'\"Male\"', ..., b'\"Sun\"', b'\"Dinner\"', b'3'],\n",
       "       ...,\n",
       "       [b'22.67', b'2', b'\"Male\"', ..., b'\"Sat\"', b'\"Dinner\"', b'2'],\n",
       "       [b'17.82', b'1.75', b'\"Male\"', ..., b'\"Sat\"', b'\"Dinner\"', b'2'],\n",
       "       [b'18.78', b'3', b'\"Female\"', ..., b'\"Thur\"', b'\"Dinner\"', b'2']],\n",
       "      dtype=object)"
      ]
     },
     "execution_count": 31,
     "metadata": {},
     "output_type": "execute_result"
    }
   ],
   "source": [
    "data1=np.genfromtxt(r\"C:\\Users\\Lenovo\\Downloads\\tips.csv\",skip_header=1,delimiter=',',dtype=object,encoding=None)\n",
    "data1"
   ]
  },
  {
   "cell_type": "code",
   "execution_count": null,
   "id": "061e5526",
   "metadata": {},
   "outputs": [],
   "source": []
  }
 ],
 "metadata": {
  "kernelspec": {
   "display_name": "Python 3 (ipykernel)",
   "language": "python",
   "name": "python3"
  },
  "language_info": {
   "codemirror_mode": {
    "name": "ipython",
    "version": 3
   },
   "file_extension": ".py",
   "mimetype": "text/x-python",
   "name": "python",
   "nbconvert_exporter": "python",
   "pygments_lexer": "ipython3",
   "version": "3.10.9"
  }
 },
 "nbformat": 4,
 "nbformat_minor": 5
}
