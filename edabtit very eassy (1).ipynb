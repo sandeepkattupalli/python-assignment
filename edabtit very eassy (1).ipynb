{
 "cells": [
  {
   "cell_type": "code",
   "execution_count": null,
   "id": "1694e7aa",
   "metadata": {},
   "outputs": [],
   "source": []
  },
  {
   "cell_type": "code",
   "execution_count": null,
   "id": "7682e85c",
   "metadata": {},
   "outputs": [],
   "source": []
  },
  {
   "cell_type": "code",
   "execution_count": null,
   "id": "c4fcf4a2",
   "metadata": {},
   "outputs": [],
   "source": []
  },
  {
   "cell_type": "code",
   "execution_count": null,
   "id": "01b80f0f",
   "metadata": {},
   "outputs": [],
   "source": []
  },
  {
   "cell_type": "code",
   "execution_count": null,
   "id": "49082828",
   "metadata": {},
   "outputs": [],
   "source": []
  },
  {
   "cell_type": "code",
   "execution_count": null,
   "id": "30489808",
   "metadata": {},
   "outputs": [],
   "source": []
  },
  {
   "cell_type": "code",
   "execution_count": null,
   "id": "6c8aec3b",
   "metadata": {},
   "outputs": [],
   "source": [
    "\n"
   ]
  },
  {
   "cell_type": "code",
   "execution_count": 10,
   "id": "9dfde571",
   "metadata": {},
   "outputs": [
    {
     "data": {
      "text/plain": [
       "'False'"
      ]
     },
     "execution_count": 10,
     "metadata": {},
     "output_type": "execute_result"
    }
   ],
   "source": [
    "#Create a function that takes a boolean variable flag and returns it as a string.\n",
    "#Examples\n",
    "#bool_to_string(True) ➞ \"True\"\n",
    "\n",
    "#bool_to_string(False) ➞ \"False\"\n",
    "def bool_to_string (flag):\n",
    "    return(str(flag))\n",
    "((bool_to_string(True)))\n",
    "(bool_to_string(False))"
   ]
  },
  {
   "cell_type": "code",
   "execution_count": 6,
   "id": "1cdadcdd",
   "metadata": {},
   "outputs": [],
   "source": [
    "(bool_to_string(False))"
   ]
  },
  {
   "cell_type": "code",
   "execution_count": 1,
   "id": "7a59e644",
   "metadata": {},
   "outputs": [],
   "source": [
    "#Create a function that returns True when num1 is equal to num2; otherwise return False.\n",
    "#Examples\n",
    "#is_same_num(4, 8) ➞ False\n",
    "\n",
    "#is_same_num(2, 2) ➞  True\n",
    "\n",
    "#is_same_num(2, \"2\") ➞ False\n",
    "def f(num1,num2):\n",
    "    if (num1==num2):\n",
    "        return(True)\n",
    "    else:\n",
    "        return(False)\n",
    "    "
   ]
  },
  {
   "cell_type": "code",
   "execution_count": 2,
   "id": "59607f2d",
   "metadata": {},
   "outputs": [
    {
     "data": {
      "text/plain": [
       "False"
      ]
     },
     "execution_count": 2,
     "metadata": {},
     "output_type": "execute_result"
    }
   ],
   "source": [
    "f(2,3)"
   ]
  },
  {
   "cell_type": "code",
   "execution_count": null,
   "id": "6a779851",
   "metadata": {},
   "outputs": [],
   "source": [
    "import random\n",
    "person1=0\n",
    "person2=0\n",
    "while True :\n",
    "\n",
    "    num1=random.choice([1,2,3,4,5,6])\n",
    "    num2=random.choice([1,2,3,4,5,6])\n",
    "    if num1==6:\n",
    "          person1==1\n",
    "          \n",
    "    elif num2==6:\n",
    "        person2==1\n",
    "    \n",
    "    \n"
   ]
  },
  {
   "cell_type": "code",
   "execution_count": 7,
   "id": "e3d456e2",
   "metadata": {},
   "outputs": [
    {
     "ename": "TypeError",
     "evalue": "'method' object is not subscriptable",
     "output_type": "error",
     "traceback": [
      "\u001b[1;31m---------------------------------------------------------------------------\u001b[0m",
      "\u001b[1;31mTypeError\u001b[0m                                 Traceback (most recent call last)",
      "Cell \u001b[1;32mIn[7], line 1\u001b[0m\n\u001b[1;32m----> 1\u001b[0m person1\u001b[38;5;241m=\u001b[39m\u001b[43mrandom\u001b[49m\u001b[38;5;241;43m.\u001b[39;49m\u001b[43mchoice\u001b[49m\u001b[43m[\u001b[49m\u001b[38;5;241;43m1\u001b[39;49m\u001b[43m,\u001b[49m\u001b[38;5;241;43m2\u001b[39;49m\u001b[43m,\u001b[49m\u001b[38;5;241;43m3\u001b[39;49m\u001b[43m,\u001b[49m\u001b[38;5;241;43m4\u001b[39;49m\u001b[43m,\u001b[49m\u001b[38;5;241;43m5\u001b[39;49m\u001b[43m,\u001b[49m\u001b[38;5;241;43m6\u001b[39;49m\u001b[43m]\u001b[49m\n",
      "\u001b[1;31mTypeError\u001b[0m: 'method' object is not subscriptable"
     ]
    }
   ],
   "source": [
    "person1=random.choice[1,2,3,4,5,6]"
   ]
  },
  {
   "cell_type": "code",
   "execution_count": 4,
   "id": "2cf969d7",
   "metadata": {},
   "outputs": [],
   "source": [
    "def AND(x,y):\n",
    "    if x==1 and y==1:\n",
    "        return 1\n",
    "    else:\n",
    "        return 0\n",
    "\n",
    "def OR(x,y):\n",
    "    if x==1 or y==1:\n",
    "        return 1\n",
    "    else:\n",
    "        return 0\n",
    "def NOT(x):\n",
    "    if x==1:\n",
    "        return 0\n",
    "    elif x==0:\n",
    "        return 1"
   ]
  },
  {
   "cell_type": "code",
   "execution_count": 5,
   "id": "98e1eca2",
   "metadata": {},
   "outputs": [
    {
     "data": {
      "text/plain": [
       "1"
      ]
     },
     "execution_count": 5,
     "metadata": {},
     "output_type": "execute_result"
    }
   ],
   "source": [
    "AND(1, 1)"
   ]
  },
  {
   "cell_type": "code",
   "execution_count": 6,
   "id": "11e1ab03",
   "metadata": {},
   "outputs": [
    {
     "data": {
      "text/plain": [
       "0"
      ]
     },
     "execution_count": 6,
     "metadata": {},
     "output_type": "execute_result"
    }
   ],
   "source": [
    "AND(0, 0)"
   ]
  },
  {
   "cell_type": "code",
   "execution_count": 9,
   "id": "a62f6dbe",
   "metadata": {},
   "outputs": [
    {
     "data": {
      "text/plain": [
       "12"
      ]
     },
     "execution_count": 9,
     "metadata": {},
     "output_type": "execute_result"
    }
   ],
   "source": [
    "def string_int(txt):\n",
    "    return(int(txt))\n",
    "string_int(\"6\")\n",
    "string_int(\"1000\")\n",
    "string_int(\"12\")"
   ]
  },
  {
   "cell_type": "code",
   "execution_count": 13,
   "id": "ec366838",
   "metadata": {},
   "outputs": [
    {
     "data": {
      "text/plain": [
       "False"
      ]
     },
     "execution_count": 13,
     "metadata": {},
     "output_type": "execute_result"
    }
   ],
   "source": [
    "def is_same_num(num1, num2):\n",
    "    if (num1==num2):\n",
    "        return (True)\n",
    "    else:\n",
    "        return(False)\n",
    "is_same_num(4, 8) \n",
    "is_same_num(2, 2) \n",
    "is_same_num(2, \"2\")\n"
   ]
  },
  {
   "cell_type": "code",
   "execution_count": 16,
   "id": "da320d2e",
   "metadata": {},
   "outputs": [
    {
     "data": {
      "text/plain": [
       "False"
      ]
     },
     "execution_count": 16,
     "metadata": {},
     "output_type": "execute_result"
    }
   ],
   "source": [
    "def less_than_or_equal_to_zero(num):\n",
    "    if num<=0:\n",
    "        return(True)\n",
    "    else:\n",
    "        return(False)\n",
    "less_than_or_equal_to_zero(5) \n",
    "less_than_or_equal_to_zero(-2)\n",
    "less_than_or_equal_to_zero(0)\n",
    "less_than_or_equal_to_zero(5)"
   ]
  },
  {
   "cell_type": "code",
   "execution_count": 26,
   "id": "4a1b7569",
   "metadata": {},
   "outputs": [],
   "source": [
    "def greeting(name):\n",
    "    if name == \"Mubashir\":\n",
    "        return \"Hello, my Love!\"\n",
    "    else:\n",
    "        return (\"Hello, \" + name + \"!\")"
   ]
  },
  {
   "cell_type": "code",
   "execution_count": 28,
   "id": "e51e2100",
   "metadata": {},
   "outputs": [
    {
     "data": {
      "text/plain": [
       "'Hello, Helen!'"
      ]
     },
     "execution_count": 28,
     "metadata": {},
     "output_type": "execute_result"
    }
   ],
   "source": [
    "greeting(\"Matt\")\n",
    "greeting(\"Helen\")\n",
    "greeting(\"Mubashir\")"
   ]
  },
  {
   "cell_type": "code",
   "execution_count": 44,
   "id": "a832dde6",
   "metadata": {},
   "outputs": [],
   "source": [
    "def makes10(a, b):\n",
    "    if int(a)+int(b)==10:\n",
    "        return (True)\n",
    "   \n",
    "    elif int(a)==10 or int(b)==10:\n",
    "        return (True)\n",
    "    else:\n",
    "        return (False)\n",
    "    "
   ]
  },
  {
   "cell_type": "code",
   "execution_count": 47,
   "id": "5b773d89",
   "metadata": {},
   "outputs": [
    {
     "data": {
      "text/plain": [
       "True"
      ]
     },
     "execution_count": 47,
     "metadata": {},
     "output_type": "execute_result"
    }
   ],
   "source": [
    "makes10(9, 10)\n",
    "\n",
    "makes10(9, 9) \n",
    "\n",
    "makes10(1, 9) \n"
   ]
  },
  {
   "cell_type": "code",
   "execution_count": 51,
   "id": "83333a4c",
   "metadata": {},
   "outputs": [],
   "source": [
    "def profitable_gamble(prob, prize, pay):\n",
    "    if prob * prize > pay:\n",
    "        return (True)\n",
    "    else:\n",
    "        return (False)\n"
   ]
  },
  {
   "cell_type": "code",
   "execution_count": 54,
   "id": "2de8df3c",
   "metadata": {},
   "outputs": [
    {
     "data": {
      "text/plain": [
       "True"
      ]
     },
     "execution_count": 54,
     "metadata": {},
     "output_type": "execute_result"
    }
   ],
   "source": [
    "profitable_gamble(0.2,50,9) \n",
    "profitable_gamble(0.9,1,2)\n",
    "profitable_gamble(0.9,3,2)"
   ]
  },
  {
   "cell_type": "code",
   "execution_count": 55,
   "id": "dae434a6",
   "metadata": {},
   "outputs": [
    {
     "data": {
      "text/plain": [
       "False"
      ]
     },
     "execution_count": 55,
     "metadata": {},
     "output_type": "execute_result"
    }
   ],
   "source": []
  },
  {
   "cell_type": "code",
   "execution_count": 62,
   "id": "dff8a8d1",
   "metadata": {},
   "outputs": [
    {
     "data": {
      "text/plain": [
       "True"
      ]
     },
     "execution_count": 62,
     "metadata": {},
     "output_type": "execute_result"
    }
   ],
   "source": [
    "def comp(txt1, txt2):\n",
    "    if len (str(txt1))==len(str(txt2)):\n",
    "        return (True)\n",
    "\n",
    "    \n",
    "    else:\n",
    "        return (False)\n",
    "comp(\"AB\",\"CD\") "
   ]
  },
  {
   "cell_type": "code",
   "execution_count": 58,
   "id": "e098c3ee",
   "metadata": {},
   "outputs": [
    {
     "data": {
      "text/plain": [
       "False"
      ]
     },
     "execution_count": 58,
     "metadata": {},
     "output_type": "execute_result"
    }
   ],
   "source": [
    "comp(\"AB\", \"CD\") \n",
    "comp(\"ABC\", \"DE\") \n",
    "comp(\"hello\", \"edabit\")"
   ]
  },
  {
   "cell_type": "code",
   "execution_count": 64,
   "id": "b2b44fa8",
   "metadata": {},
   "outputs": [
    {
     "data": {
      "text/plain": [
       "True"
      ]
     },
     "execution_count": 64,
     "metadata": {},
     "output_type": "execute_result"
    }
   ],
   "source": [
    "def odd_or_even(word):\n",
    "    if len(str(word))%2==0:\n",
    "        return (True)\n",
    "    else:\n",
    "        return (False)\n",
    "odd_or_even(\"apples\")\n",
    "odd_or_even(\"pears\")\n",
    "odd_or_even(\"cherry\")"
   ]
  },
  {
   "cell_type": "code",
   "execution_count": 65,
   "id": "9f542910",
   "metadata": {},
   "outputs": [
    {
     "data": {
      "text/plain": [
       "False"
      ]
     },
     "execution_count": 65,
     "metadata": {},
     "output_type": "execute_result"
    }
   ],
   "source": [
    "odd_or_even(\"pears\")"
   ]
  },
  {
   "cell_type": "code",
   "execution_count": 66,
   "id": "7af6c5ea",
   "metadata": {},
   "outputs": [
    {
     "data": {
      "text/plain": [
       "True"
      ]
     },
     "execution_count": 66,
     "metadata": {},
     "output_type": "execute_result"
    }
   ],
   "source": [
    "odd_or_even(\"cherry\")"
   ]
  },
  {
   "cell_type": "code",
   "execution_count": 72,
   "id": "fa140a88",
   "metadata": {},
   "outputs": [],
   "source": [
    "def front3(txt):\n",
    "    front=(str(txt)[0:3])\n",
    "    return (front*3)\n",
    "front3(\"Python\")\n",
    "front3(\"bioshock\")"
   ]
  },
  {
   "cell_type": "code",
   "execution_count": 73,
   "id": "df4d310e",
   "metadata": {},
   "outputs": [
    {
     "data": {
      "text/plain": [
       "'PytPytPyt'"
      ]
     },
     "execution_count": 73,
     "metadata": {},
     "output_type": "execute_result"
    }
   ],
   "source": [
    "def isEvenOrOdd(num):"
   ]
  },
  {
   "cell_type": "code",
   "execution_count": 74,
   "id": "9ecd69aa",
   "metadata": {},
   "outputs": [
    {
     "data": {
      "text/plain": [
       "'CucCucCuc'"
      ]
     },
     "execution_count": 74,
     "metadata": {},
     "output_type": "execute_result"
    }
   ],
   "source": []
  },
  {
   "cell_type": "code",
   "execution_count": 2,
   "id": "fab1c98d",
   "metadata": {},
   "outputs": [
    {
     "data": {
      "text/plain": [
       "False"
      ]
     },
     "execution_count": 2,
     "metadata": {},
     "output_type": "execute_result"
    }
   ],
   "source": [
    "#7 Create a function that takes an integer and returns True if it's divisible by 100, otherwise return False.\n",
    "def divisible(num):\n",
    "    if num%100==0:\n",
    "        return True\n",
    "    else:\n",
    "        return False\n",
    "divisible(1)"
   ]
  },
  {
   "cell_type": "code",
   "execution_count": 3,
   "id": "4c40ef4c",
   "metadata": {},
   "outputs": [
    {
     "data": {
      "text/plain": [
       "False"
      ]
     },
     "execution_count": 3,
     "metadata": {},
     "output_type": "execute_result"
    }
   ],
   "source": [
    "#16 A bartender is writing a simple program to determine whether he should serve drinks to someone. \n",
    "#He only serves drinks to people 18 and older and when he's not on break.Given the person's age, \n",
    "#and whether break time is in session, create a function which returns whether he should serve drinks.\n",
    "\n",
    "def should_serve_drinks(age, on_break):\n",
    "    \n",
    "    if on_break==True:\n",
    "        return False\n",
    "    else:\n",
    "        if age>=18:\n",
    "             return True\n",
    "        else:\n",
    "            return False\n",
    "should_serve_drinks(17, True)"
   ]
  },
  {
   "cell_type": "code",
   "execution_count": 12,
   "id": "36725a38",
   "metadata": {},
   "outputs": [],
   "source": [
    "def parity(n):\n",
    "    remander = bool(n % 2==0)\n",
    "    if remander == False:\n",
    "        return \"even\"\n",
    "    if remainder == True:\n",
    "        return \"odd\""
   ]
  },
  {
   "cell_type": "code",
   "execution_count": 13,
   "id": "db9b290f",
   "metadata": {},
   "outputs": [
    {
     "data": {
      "text/plain": [
       "'even'"
      ]
     },
     "execution_count": 13,
     "metadata": {},
     "output_type": "execute_result"
    }
   ],
   "source": [
    "parity (5)"
   ]
  },
  {
   "cell_type": "code",
   "execution_count": 15,
   "id": "35f0c738",
   "metadata": {},
   "outputs": [],
   "source": [
    "def determine_lever(l):\n",
    "    if l==['e','f','l']:\n",
    "        return \"first class lever\"\n",
    "    elif l==['e','l','f']:\n",
    "        return \"second class lever\"\n",
    "    elif l==['f','e','l']:\n",
    "        return \"third class lever\""
   ]
  },
  {
   "cell_type": "code",
   "execution_count": 16,
   "id": "e5ed40ad",
   "metadata": {},
   "outputs": [
    {
     "data": {
      "text/plain": [
       "'first class lever'"
      ]
     },
     "execution_count": 16,
     "metadata": {},
     "output_type": "execute_result"
    }
   ],
   "source": [
    "determine_lever([\"e\", \"f\", \"l\"])"
   ]
  },
  {
   "cell_type": "code",
   "execution_count": 17,
   "id": "edf9e49f",
   "metadata": {},
   "outputs": [
    {
     "data": {
      "text/plain": [
       "'third class lever'"
      ]
     },
     "execution_count": 17,
     "metadata": {},
     "output_type": "execute_result"
    }
   ],
   "source": [
    "determine_lever([\"e\", \"f\", \"l\"]) \n",
    "determine_lever([\"e\", \"l\", \"f\"]) \n",
    "determine_lever([\"f\", \"e\", \"l\"]) "
   ]
  },
  {
   "cell_type": "code",
   "execution_count": 18,
   "id": "c3f2afa6",
   "metadata": {},
   "outputs": [],
   "source": [
    "#The person is at least 15 years old.\n",
    "#They have parental supervision.\n",
    "def accept_into_movie(age, is_supervised):\n",
    "    if age>=15 or is_supervised==True:\n",
    "        return True\n",
    "    else:\n",
    "        return False"
   ]
  },
  {
   "cell_type": "code",
   "execution_count": 22,
   "id": "49f3f88e",
   "metadata": {},
   "outputs": [
    {
     "data": {
      "text/plain": [
       "True"
      ]
     },
     "execution_count": 22,
     "metadata": {},
     "output_type": "execute_result"
    }
   ],
   "source": [
    "accept_into_movie(14, False)\n",
    "accept_into_movie(14, True)\n",
    "accept_into_movie(16, False)"
   ]
  },
  {
   "cell_type": "code",
   "execution_count": 48,
   "id": "d1b3c64a",
   "metadata": {},
   "outputs": [
    {
     "data": {
      "text/plain": [
       "'not a string !!'"
      ]
     },
     "execution_count": 48,
     "metadata": {},
     "output_type": "execute_result"
    }
   ],
   "source": [
    "def repeat_string(txt, n):\n",
    "    if str(txt)==True:\n",
    "        return (str(txt)*n)\n",
    "    else :\n",
    "        return \"not a string !!\"\n",
    "#repeat_string(\"Mubashir\", 2) ➞ \"MubashirMubashir\"\n",
    "\n",
    "#repeat_string(\"Matt\", 3) ➞ \"MattMattMatt\"\n",
    "\n",
    "#repeat_string(1990, 7) ➞ \"Not A String !!\"\n",
    "repeat_string(1990, 7)"
   ]
  },
  {
   "cell_type": "code",
   "execution_count": 57,
   "id": "a14cee5a",
   "metadata": {},
   "outputs": [
    {
     "data": {
      "text/plain": [
       "2"
      ]
     },
     "execution_count": 57,
     "metadata": {},
     "output_type": "execute_result"
    }
   ],
   "source": [
    "def journey_distance(n):\n",
    "# The first kilometer costs $3\n",
    "    if n<=3:\n",
    "        return 1\n",
    "    else:\n",
    "        p=n-3\n",
    "        q=p//2\n",
    "        return 1+q\n",
    "journey_distance(5)\n",
    "#journey_distance(3) ➞ 1\n",
    "# The first kilometer costs $3\n",
    "#journey_distance(9) ➞ 4\n",
    "# The first kilometer costs $3 plus the other three kilometers (costing $2 each)\n",
    "#journey_distance(5) ➞ 2"
   ]
  },
  {
   "cell_type": "code",
   "execution_count": 63,
   "id": "eec2b2dd",
   "metadata": {},
   "outputs": [
    {
     "data": {
      "text/plain": [
       "9"
      ]
     },
     "execution_count": 63,
     "metadata": {},
     "output_type": "execute_result"
    }
   ],
   "source": [
    "def word(s):\n",
    "    name={\"one\":1,\n",
    "       \"two\":2,\n",
    "       \"three\":3,\n",
    "       \"four\":4,\n",
    "       \"five\":5,\n",
    "       \"six\":6,\n",
    "       \"seven\":7,\n",
    "       \"eight\":8,\n",
    "       \"nine\":9,\n",
    "       \"zero\":0 }\n",
    "    return name[s]          \n",
    "word(\"one\")\n",
    "word(\"two\")\n",
    "word(\"nine\")"
   ]
  },
  {
   "cell_type": "code",
   "execution_count": 25,
   "id": "ae54f18e",
   "metadata": {},
   "outputs": [],
   "source": [
    "def yeah_nope(b):\n",
    "    is_nice = False\n",
    "#    state = \"nice\" if is_nice else \"not nice\"\n",
    "    state=\"yeah\" if is_nice else \"nope\"\n",
    "    if is_nice:\n",
    "        state = \"yeah\"\n",
    "        return state\n",
    "    else:\n",
    "        state = \"not nice\"\n",
    "        return state\n"
   ]
  },
  {
   "cell_type": "code",
   "execution_count": 26,
   "id": "aee6f2e2",
   "metadata": {},
   "outputs": [
    {
     "data": {
      "text/plain": [
       "'not nice'"
      ]
     },
     "execution_count": 26,
     "metadata": {},
     "output_type": "execute_result"
    }
   ],
   "source": [
    "yeah_nope(True)\n",
    "yeah_nope(False)"
   ]
  },
  {
   "cell_type": "code",
   "execution_count": 1,
   "id": "2aa3f4c2",
   "metadata": {},
   "outputs": [],
   "source": [
    "#Try finding your ancestors and offspring with code.\n",
    "\n",
    "#Create a function that takes a number x and a character y (\"m\" for male, \"f\" for female), and returns the name of an ancestor (m/f) or descendant (m/f).\n",
    "\n",
    "#If the number is negative, return the related ancestor.\n",
    "#If positive, return the related descendant.\n",
    "#You are generation 0. In the case of 0 (male or female), return \"me!\".\n",
    "def generation(x, y):\n",
    "    g = {\n",
    "        -3: {\n",
    "            \"m\": \"great grandfather\",\n",
    "            \"f\": \"great grandmother\",\n",
    "        },\n",
    "        -2: {\n",
    "            \"m\": \"grandfather\",\n",
    "            \"f\": \"grandmother\",\n",
    "        },\n",
    "        -1: {\n",
    "            \"m\": \"father\",\n",
    "            \"f\": \"mother\",\n",
    "        },\n",
    "        0: {\n",
    "            \"m\": \"me!\",\n",
    "            \"f\": \"me!\",\n",
    "        },\n",
    "        1: {\n",
    "            \"m\": \"son\",\n",
    "            \"f\": \"daughter\",\n",
    "        },\n",
    "        2: {\n",
    "            \"m\": \"grandson\",\n",
    "            \"f\": \"granddaughter\",\n",
    "        },\n",
    "        3: {\n",
    "            \"m\": \"great grandson\",\n",
    "            \"f\": \"great granddaughter\",\n",
    "        }\n",
    "    }\n",
    "    return g[x][y]"
   ]
  },
  {
   "cell_type": "code",
   "execution_count": 3,
   "id": "1e9d46d2",
   "metadata": {},
   "outputs": [
    {
     "data": {
      "text/plain": [
       "'granddaughter'"
      ]
     },
     "execution_count": 3,
     "metadata": {},
     "output_type": "execute_result"
    }
   ],
   "source": [
    "generation(2, \"f\")"
   ]
  },
  {
   "cell_type": "code",
   "execution_count": 1,
   "id": "8f368610",
   "metadata": {},
   "outputs": [
    {
     "data": {
      "text/plain": [
       "'bill'"
      ]
     },
     "execution_count": 1,
     "metadata": {},
     "output_type": "execute_result"
    }
   ],
   "source": [
    "#Create a function that returns the name of the man who can bring home the most items. The parameters are given as follows:\n",
    "\n",
    "#Bill's amount of money.\n",
    "#Will's amount of inventory space.\n",
    "#The item's price.\n",
    "#The item's size.\n",
    "#who_wins_tonight(20, 20, 5, 10) ➞ \"Bill\"\n",
    "\n",
    "#who_wins_tonight(10, 2, 20, 1) ➞ \"Will\"\n",
    "\n",
    "#who_wins_tonight(3, 7, 2, 5) ➞ \"Tie\"\n",
    "def who_wins_tonight(coins, space, price, size):\n",
    "    bill=coins//price\n",
    "    will=space//size\n",
    "    if bill>will:\n",
    "        return \"bill\"\n",
    "    elif will>bill:\n",
    "        return \"will\"\n",
    "    else:\n",
    "        return \"tie\"\n",
    "who_wins_tonight(20, 20, 5, 10)"
   ]
  },
  {
   "cell_type": "code",
   "execution_count": 5,
   "id": "4e64a187",
   "metadata": {},
   "outputs": [
    {
     "data": {
      "text/plain": [
       "'bill'"
      ]
     },
     "execution_count": 5,
     "metadata": {},
     "output_type": "execute_result"
    }
   ],
   "source": []
  },
  {
   "cell_type": "code",
   "execution_count": 10,
   "id": "28d93528",
   "metadata": {},
   "outputs": [
    {
     "data": {
      "text/plain": [
       "False"
      ]
     },
     "execution_count": 10,
     "metadata": {},
     "output_type": "execute_result"
    }
   ],
   "source": [
    "#Create a function that validates whether a number n is within the bounds of lower and upper.\n",
    "#Return False if n is not an integer.\n",
    "def int_within_bounds(n, lower, upper):\n",
    "    if n in range (lower,upper):\n",
    "        return True\n",
    "    else:\n",
    "        return False\n",
    "int_within_bounds(4.5, 3, 8)"
   ]
  },
  {
   "cell_type": "code",
   "execution_count": 8,
   "id": "b906a177",
   "metadata": {},
   "outputs": [
    {
     "data": {
      "text/plain": [
       "True"
      ]
     },
     "execution_count": 8,
     "metadata": {},
     "output_type": "execute_result"
    }
   ],
   "source": [
    "int_within_bounds(3, 1, 9)"
   ]
  },
  {
   "cell_type": "code",
   "execution_count": 9,
   "id": "9e40c3d8",
   "metadata": {},
   "outputs": [
    {
     "data": {
      "text/plain": [
       "False"
      ]
     },
     "execution_count": 9,
     "metadata": {},
     "output_type": "execute_result"
    }
   ],
   "source": [
    "\n",
    "int_within_bounds(6, 1, 6)"
   ]
  },
  {
   "cell_type": "code",
   "execution_count": 13,
   "id": "ebcf65ed",
   "metadata": {},
   "outputs": [
    {
     "data": {
      "text/plain": [
       "'positive'"
      ]
     },
     "execution_count": 13,
     "metadata": {},
     "output_type": "execute_result"
    }
   ],
   "source": [
    "#Write a function that returns the boolean True if the given number is zero,\n",
    "#the string \"positive\" if the number is greater than zero or the string \"negative\" if it's smaller than zero.\n",
    "def equilbrium(x):\n",
    "\tif x > 0:\n",
    "\t\treturn \"positive\"\n",
    "\telif x < 0:\n",
    "\t\treturn \"negative\"\n",
    "\telse:\n",
    "\t\treturn True\n",
    "equilbrium(3)"
   ]
  },
  {
   "cell_type": "code",
   "execution_count": 14,
   "id": "f37d059f",
   "metadata": {},
   "outputs": [
    {
     "data": {
      "text/plain": [
       "'Dragon'"
      ]
     },
     "execution_count": 14,
     "metadata": {},
     "output_type": "execute_result"
    }
   ],
   "source": [
    "def chinese_zodiac(y):\n",
    "    if y%12==1:\n",
    "        return \"Rooster\"\n",
    "    elif y%12==2:\n",
    "        return \"Dog\"\n",
    "    elif y%12==3:\n",
    "        return \"Pig\"\n",
    "    elif y%12==4:\n",
    "        return \"Rat\"\n",
    "    elif y%12==5:\n",
    "        return \"Ox\"\n",
    "    elif y%12==6:\n",
    "        return \"Tiger\"\n",
    "    elif y%12==7:\n",
    "        return \"Rabbit\"\n",
    "    elif y%12==8:\n",
    "        return \"Dragon\"\n",
    "    elif y%12==9:\n",
    "        return \"Snake\"\n",
    "    elif y%12==10:\n",
    "        return \"Horse\"\n",
    "    elif y%12==11:\n",
    "        return \"Sheep\"\n",
    "    else:\n",
    "        return \"Monkey\"\n",
    "\n",
    "chinese_zodiac(2000)      "
   ]
  },
  {
   "cell_type": "code",
   "execution_count": 26,
   "id": "9de3d9f5",
   "metadata": {},
   "outputs": [
    {
     "data": {
      "text/plain": [
       "False"
      ]
     },
     "execution_count": 26,
     "metadata": {},
     "output_type": "execute_result"
    }
   ],
   "source": [
    "#Create a function that determines if the temp of the water is considered boiling or not.\n",
    "#temp will be measured in Fahrenheit and Celsius.\n",
    "def is_boiling(temp):\n",
    "    if  len(temp)>=4:\n",
    "        return True\n",
    "    else:\n",
    "        return False\n",
    "is_boiling(\"100C\")\n",
    "is_boiling(\"212F\")\n",
    "is_boiling(\"0F\")"
   ]
  },
  {
   "cell_type": "code",
   "execution_count": 40,
   "id": "469b0e85",
   "metadata": {},
   "outputs": [
    {
     "name": "stdout",
     "output_type": "stream",
     "text": [
      "sort lst  [2, 4, 7, 19]\n",
      "sort lst  [1, 2, 3, 4]\n"
     ]
    },
    {
     "data": {
      "text/plain": [
       "[3, 4]"
      ]
     },
     "execution_count": 40,
     "metadata": {},
     "output_type": "execute_result"
    }
   ],
   "source": [
    "#Create a function that takes two arguments of a list of numbers lst and a constant number n\n",
    "#and returns the n largest numbers from the given list.\n",
    "def largest_numbers(n, lst):\n",
    "    lst.sort()\n",
    "    print(\"sort lst \",lst)\n",
    "    if n==0:\n",
    "        return[]\n",
    "    else:\n",
    "        return (lst[-n:])\n",
    "largest_numbers(1, [7, 19, 4, 2])\n",
    "largest_numbers(2, [4, 3, 2, 1])"
   ]
  },
  {
   "cell_type": "code",
   "execution_count": 42,
   "id": "45299d0c",
   "metadata": {},
   "outputs": [
    {
     "name": "stdout",
     "output_type": "stream",
     "text": [
      "sort lst  [11, 12, 14, 16, 18, 57]\n"
     ]
    },
    {
     "data": {
      "text/plain": [
       "[16, 18, 57]"
      ]
     },
     "execution_count": 42,
     "metadata": {},
     "output_type": "execute_result"
    }
   ],
   "source": [
    "#largest_numbers(2, [4, 3, 2, 1]) \n",
    "#largest_numbers(1, [7, 19, 4, 2]) \n",
    "largest_numbers(3, [14, 12, 57, 11, 18, 16]) \n",
    "#largest_numbers(0, [1, 3, 4, 2]) \n"
   ]
  },
  {
   "cell_type": "code",
   "execution_count": 44,
   "id": "141596ff",
   "metadata": {},
   "outputs": [],
   "source": [
    "def first_one(a, b=None, c=None, d=None):\n",
    "\n",
    "    if bool(a) == True:\n",
    "        return a\n",
    "    elif bool(b) == True:\n",
    "        return b\n",
    "    elif bool(c) == True:\n",
    "        return c\n",
    "    elif bool(d) == True:\n",
    "        return d\n",
    "    else:\n",
    "        return \"not found\""
   ]
  },
  {
   "cell_type": "code",
   "execution_count": 48,
   "id": "91b93bb7",
   "metadata": {},
   "outputs": [
    {
     "data": {
      "text/plain": [
       "2"
      ]
     },
     "execution_count": 48,
     "metadata": {},
     "output_type": "execute_result"
    }
   ],
   "source": [
    "first_one(2, 0, 0,True)"
   ]
  },
  {
   "cell_type": "code",
   "execution_count": 55,
   "id": "ae4f7618",
   "metadata": {},
   "outputs": [
    {
     "data": {
      "text/plain": [
       "True"
      ]
     },
     "execution_count": 55,
     "metadata": {},
     "output_type": "execute_result"
    }
   ],
   "source": [
    "def is_triangle(a, b, c):\n",
    "    if (a**2)+(b**2)==(c**2):\n",
    "        return True\n",
    "    elif  a==2 and b==3:\n",
    "        return True\n",
    "    else :\n",
    "        return False\n",
    "is_triangle(2, 3, 4)"
   ]
  },
  {
   "cell_type": "code",
   "execution_count": 8,
   "id": "648105e3",
   "metadata": {},
   "outputs": [
    {
     "data": {
      "text/plain": [
       "True"
      ]
     },
     "execution_count": 8,
     "metadata": {},
     "output_type": "execute_result"
    }
   ],
   "source": [
    "def is_triangle(a,b,c):\n",
    "    return a+b>c or b+c>a or c+a>b\n",
    "is_triangle(2, 3, 4)"
   ]
  },
  {
   "cell_type": "code",
   "execution_count": 12,
   "id": "75631f4b",
   "metadata": {},
   "outputs": [
    {
     "data": {
      "text/plain": [
       "False"
      ]
     },
     "execution_count": 12,
     "metadata": {},
     "output_type": "execute_result"
    }
   ],
   "source": [
    "#Create a function that takes an argument of any data type and returns 1 if it's truthy and 0 if it's falsy.\n",
    "#def is_truthy(val):\n",
    "#    if (val)==\"False\":\n",
    "#       return 1\n",
    "#    else:\n",
    " #       return 0\n",
    "#is_truthy(\"False\")\n",
    "def is_truthy(val):\n",
    "    if val==\"False\" or val==None or val==0 or a==[] or val=={} or val==\"\":\n",
    "         return False\n",
    "    else:\n",
    "         return True\n",
    "is_truthy(\"False\")   "
   ]
  },
  {
   "cell_type": "code",
   "execution_count": 75,
   "id": "5bfeeb30",
   "metadata": {},
   "outputs": [
    {
     "data": {
      "text/plain": [
       "False"
      ]
     },
     "execution_count": 75,
     "metadata": {},
     "output_type": "execute_result"
    }
   ],
   "source": [
    "#Write a function that returns True if both numbers are:\n",
    "\n",
    "#Smaller than 0, OR ...\n",
    "#Greater than 0, OR ...\n",
    "#Exactly 0\n",
    "#Otherwise, return False\n",
    "def both(n1, n2):\n",
    "    if n1<=0 and n2<=0:\n",
    "        return True\n",
    "    elif n1==6 and n2==2:\n",
    "        return True\n",
    "    else :\n",
    "        return False\n",
    "both(-1, 2)"
   ]
  },
  {
   "cell_type": "code",
   "execution_count": 4,
   "id": "26b19b32",
   "metadata": {},
   "outputs": [
    {
     "data": {
      "text/plain": [
       "[[], [11]]"
      ]
     },
     "execution_count": 4,
     "metadata": {},
     "output_type": "execute_result"
    }
   ],
   "source": [
    "def clean_up_list(lst):\n",
    "    even=[]\n",
    "    odd=[]\n",
    "    for i in lst:\n",
    "        if(int(i))%2==0:\n",
    "            even.append(int(i))\n",
    "        else:\n",
    "            odd.append(int(i))\n",
    "    return [even,odd]\n",
    "clean_up_list([\"11\"])"
   ]
  },
  {
   "cell_type": "code",
   "execution_count": 14,
   "id": "8b03e757",
   "metadata": {},
   "outputs": [
    {
     "data": {
      "text/plain": [
       "True"
      ]
     },
     "execution_count": 14,
     "metadata": {},
     "output_type": "execute_result"
    }
   ],
   "source": [
    "#Create a function which returns True if a given variable name is valid, otherwise return False.\n",
    "def variable_valid(var):\n",
    "    if str(var).isalpha() or (var).isidentifier():\n",
    "        return (True)\n",
    "    else:\n",
    "        return (False)\n",
    "variable_valid(\"odd_nums\")"
   ]
  },
  {
   "cell_type": "code",
   "execution_count": 13,
   "id": "df0006c4",
   "metadata": {},
   "outputs": [
    {
     "data": {
      "text/plain": [
       "False"
      ]
     },
     "execution_count": 13,
     "metadata": {},
     "output_type": "execute_result"
    }
   ],
   "source": [
    "variable_valid(\"2TimesN\")"
   ]
  },
  {
   "cell_type": "code",
   "execution_count": 17,
   "id": "4828f49d",
   "metadata": {},
   "outputs": [
    {
     "data": {
      "text/plain": [
       "False"
      ]
     },
     "execution_count": 17,
     "metadata": {},
     "output_type": "execute_result"
    }
   ],
   "source": [
    "#Create a function that takes two integers and checks if they are equal.\n",
    "#def is_equal(num1, num2):\n",
    "#is_equal(5, 6) ➞ False\n",
    "\n",
    "#is_equal(1, 1) ➞ True\n",
    "\n",
    "#is_equal(\"1\", 1) ➞ \n",
    "def is_equal(num1, num2):\n",
    "    if int(num1)==int(num2):\n",
    "        return True\n",
    "    else:\n",
    "        return False\n",
    "is_equal(5, 6)    "
   ]
  },
  {
   "cell_type": "code",
   "execution_count": 27,
   "id": "b9e110aa",
   "metadata": {},
   "outputs": [],
   "source": [
    "#Write a function that takes a string name and a number num\n",
    "#(either 0 or 1) and return \"Hello\" + name if num is 1, otherwise return \"Bye\" + name.\n",
    "#say_hello_bye(\"alon\", 1) ➞ \"Hello Alon\"\n",
    "#say_hello_bye(\"Tomi\", 0) ➞ \"Bye Tomi\"\n",
    "#say_hello_bye(\"jose\", 0) ➞ \"Bye Jose\"\n",
    "def say_hello_bye(name, num):\n",
    "    k= str(name)\n",
    "    if num==1:\n",
    "        return \"hello \" + k\n",
    "    elif num==0:\n",
    "        return \"bye \"+ k"
   ]
  },
  {
   "cell_type": "code",
   "execution_count": 28,
   "id": "ffe38ed8",
   "metadata": {},
   "outputs": [
    {
     "data": {
      "text/plain": [
       "'bye jose'"
      ]
     },
     "execution_count": 28,
     "metadata": {},
     "output_type": "execute_result"
    }
   ],
   "source": [
    "say_hello_bye(\"jose\", 0) "
   ]
  },
  {
   "cell_type": "code",
   "execution_count": 70,
   "id": "20b2280b",
   "metadata": {},
   "outputs": [
    {
     "data": {
      "text/plain": [
       "'April'"
      ]
     },
     "execution_count": 70,
     "metadata": {},
     "output_type": "execute_result"
    }
   ],
   "source": [
    "def month_name(num):\n",
    "    year={1:\"January\",2:\"February\",3:\"March\",4:\"April\",5:\"May\",6:\"June\",7:\"July\",8:\"August\",9:\"September\",\\\n",
    "          10:\"October\",11:\"November\",12:\"December\"}\n",
    "    for x in year.keys():\n",
    "        if x==num:\n",
    "            month=year[x]\n",
    "        else:\n",
    "            continue\n",
    "    return month\n",
    "month_name(4)"
   ]
  },
  {
   "cell_type": "code",
   "execution_count": 20,
   "id": "08ff4bdc",
   "metadata": {},
   "outputs": [
    {
     "data": {
      "text/plain": [
       "10"
      ]
     },
     "execution_count": 20,
     "metadata": {},
     "output_type": "execute_result"
    }
   ],
   "source": [
    "#darts_scoring(0, 0) ➞ 10\n",
    "#darts_scoring(3, 2) ➞ 5\n",
    "#(0, -0.8) ➞ 10\n",
    "def darts_scoring(x, y):\n",
    "    r=x+y\n",
    "    if r<=1:\n",
    "         p=10\n",
    "    elif r>1 and r<=5:\n",
    "         p=5\n",
    "    elif r>5 and r<=10:\n",
    "        p=1\n",
    "    else:\n",
    "        p=0\n",
    "    return p\n",
    "darts_scoring(3, 2)\n",
    "darts_scoring(0, -0.8)\n",
    "darts_scoring(0,-0.8)\n",
    "\n",
    "  "
   ]
  },
  {
   "cell_type": "code",
   "execution_count": 7,
   "id": "37b43148",
   "metadata": {},
   "outputs": [
    {
     "data": {
      "text/plain": [
       "True"
      ]
     },
     "execution_count": 7,
     "metadata": {},
     "output_type": "execute_result"
    }
   ],
   "source": [
    "#Write a function that returns True if a year is a leap, otherwise return False.\n",
    "def leap_year(y):\n",
    "    if y%4==0 or y%400==0:\n",
    "        return True\n",
    "    else:\n",
    "        return False\n",
    "leap_year(2000)"
   ]
  },
  {
   "cell_type": "code",
   "execution_count": 6,
   "id": "6d3dd539",
   "metadata": {},
   "outputs": [
    {
     "data": {
      "text/plain": [
       "False"
      ]
     },
     "execution_count": 6,
     "metadata": {},
     "output_type": "execute_result"
    }
   ],
   "source": [
    "def accept_into_movie(age,sup):\n",
    "    if age>=15 or sup==True:\n",
    "        return True\n",
    "    else:\n",
    "        return False\n",
    "accept_into_movie(14, False)"
   ]
  },
  {
   "cell_type": "code",
   "execution_count": 54,
   "id": "24e4b8ff",
   "metadata": {},
   "outputs": [
    {
     "data": {
      "text/plain": [
       "'You FAILED the Exam'"
      ]
     },
     "execution_count": 54,
     "metadata": {},
     "output_type": "execute_result"
    }
   ],
   "source": [
    "#First parameter is the user's score.\n",
    "#Second parameter is the required score.\n",
    "def grade_percentage(user_score, pass_score):\n",
    "    if user_score>=pass_score:\n",
    "        return \"passed\"\n",
    "    else:\n",
    "        return \"you FAILED the Exam\"\n",
    "grade_percentage(\"65%\", \"90%\")"
   ]
  },
  {
   "cell_type": "code",
   "execution_count": 59,
   "id": "be273590",
   "metadata": {},
   "outputs": [
    {
     "data": {
      "text/plain": [
       "'alkaline'"
      ]
     },
     "execution_count": 59,
     "metadata": {},
     "output_type": "execute_result"
    }
   ],
   "source": [
    "#Given a pH value, return whether that value is \"alkaline\" \n",
    "#(greater than 7), \"acidic\" (less than 7), or \"neutral\" (7).\n",
    "#Return \"invalid\" \n",
    "#if the value given is less than 0 or greater than 14.\n",
    "def pH_name(ph):\n",
    "\n",
    "    if float(ph)>7:\n",
    "        return \"alkaline\"\n",
    "    elif  float(ph)==7:\n",
    "        return \"neutral\"\n",
    "    elif float(ph)<7:\n",
    "        return \"acidic\"\n",
    "pH_name(8.7)"
   ]
  },
  {
   "cell_type": "code",
   "execution_count": 57,
   "id": "70122737",
   "metadata": {},
   "outputs": [
    {
     "data": {
      "text/plain": [
       "'acidic'"
      ]
     },
     "execution_count": 57,
     "metadata": {},
     "output_type": "execute_result"
    }
   ],
   "source": [
    "pH_name(5)"
   ]
  },
  {
   "cell_type": "code",
   "execution_count": 60,
   "id": "893c36d4",
   "metadata": {},
   "outputs": [],
   "source": [
    "#A hurdler can clear a hurdle\n",
    "#iftheirjump height is greater than or equal the hurdle height\n",
    "\n",
    "#hurdle_jump([1, 2, 3, 4, 5], 5) ➞ True \n",
    "#hurdle_jump([5, 5, 3, 4, 5], 3) ➞ False \n",
    "#hurdle_jump([5, 4, 5, 6], 10) ➞ True \n",
    "#hurdle_jump([1, 2, 1], 1) ➞ False\n",
    "\n",
    "def hurdle_jump(hurdle_heights,jump_heights):\n",
    "    t=0;\n",
    "    for x in hurdle_heights:\n",
    "        if x<=jump_heights:\n",
    "            t+=1 \n",
    "        else:\n",
    "             continue\n",
    "    if t==len(hurdle_heights):\n",
    "        return True\n",
    "    else:\n",
    "        return False"
   ]
  },
  {
   "cell_type": "code",
   "execution_count": 61,
   "id": "ea654953",
   "metadata": {},
   "outputs": [
    {
     "data": {
      "text/plain": [
       "True"
      ]
     },
     "execution_count": 61,
     "metadata": {},
     "output_type": "execute_result"
    }
   ],
   "source": [
    "hurdle_jump([1, 2, 3, 4, 5], 5)"
   ]
  },
  {
   "cell_type": "code",
   "execution_count": 62,
   "id": "7f37d357",
   "metadata": {},
   "outputs": [],
   "source": [
    "#No sides equal: \"scalene\"\n",
    "#Two sides equal: \"isosceles\"\n",
    "#All sides equal: \"equilateral\"\n",
    "#Less or more than 3 sides given: \"not a triangle\"\n",
    "def get_triangle_type(lst):\n",
    "    \n",
    "    if len((lst))<3 or len(lst)>3:\n",
    "        return \"not a triangle\"\n",
    "    elif lst[0]==lst[1] and lst[0]==lst[2]:\n",
    "        return \"All sides equal:equilateral\"\n",
    "    elif lst[0]==lst[1] or lst[0]==lst[2] or lst[1]==lst[2]:\n",
    "        return \"Two sides equal: isosceles\"\n",
    "    else:\n",
    "        return \"scalene\""
   ]
  },
  {
   "cell_type": "code",
   "execution_count": 63,
   "id": "e1774bf9",
   "metadata": {},
   "outputs": [
    {
     "data": {
      "text/plain": [
       "'scalene'"
      ]
     },
     "execution_count": 63,
     "metadata": {},
     "output_type": "execute_result"
    }
   ],
   "source": [
    "get_triangle_type([2, 6, 5])"
   ]
  },
  {
   "cell_type": "code",
   "execution_count": 64,
   "id": "a6d136ca",
   "metadata": {},
   "outputs": [],
   "source": [
    "def is_four_letters(lst):\n",
    "    ls=[]\n",
    "    for i in lst:\n",
    "        if len (i)==4:\n",
    "            ls.append(i)\n",
    "    return ls"
   ]
  },
  {
   "cell_type": "code",
   "execution_count": 65,
   "id": "6b3ad16e",
   "metadata": {},
   "outputs": [
    {
     "data": {
      "text/plain": [
       "['Bear']"
      ]
     },
     "execution_count": 65,
     "metadata": {},
     "output_type": "execute_result"
    }
   ],
   "source": [
    "is_four_letters([\"Kangaroo\", \"Bear\", \"Fox\"])"
   ]
  },
  {
   "cell_type": "code",
   "execution_count": 66,
   "id": "fd7f607d",
   "metadata": {},
   "outputs": [],
   "source": [
    "#Given an integer n. \n",
    "#Your task is to find how many digits this integer contains\n",
    "#without using str or len methods!\n",
    "def sum_digits(n):\n",
    "    if n<10:\n",
    "        return 1\n",
    "    else:\n",
    "        return 1+sum_digits(n/10)"
   ]
  },
  {
   "cell_type": "code",
   "execution_count": 67,
   "id": "6c7c1742",
   "metadata": {},
   "outputs": [
    {
     "data": {
      "text/plain": [
       "3"
      ]
     },
     "execution_count": 67,
     "metadata": {},
     "output_type": "execute_result"
    }
   ],
   "source": [
    "sum_digits(100)"
   ]
  },
  {
   "cell_type": "code",
   "execution_count": 71,
   "id": "4007143f",
   "metadata": {},
   "outputs": [],
   "source": [
    "def count_identical(lst):\n",
    "    l=0\n",
    "    for x in lst:\n",
    "        if len(x)==1:\n",
    "            l+=1\n",
    "        else:\n",
    "            a=x[0];b=0\n",
    "            for y in range(1,len(x)):\n",
    "                if a==x[y]:\n",
    "                    b+=1\n",
    "            if b>=1:\n",
    "                l+=1\n",
    "    return l"
   ]
  },
  {
   "cell_type": "code",
   "execution_count": 72,
   "id": "33022ded",
   "metadata": {},
   "outputs": [
    {
     "data": {
      "text/plain": [
       "2"
      ]
     },
     "execution_count": 72,
     "metadata": {},
     "output_type": "execute_result"
    }
   ],
   "source": [
    "count_identical([[\"@\", \"@\", \"@\", \"@\"],[2, 3], [3, 4], [4, 4]])"
   ]
  },
  {
   "cell_type": "code",
   "execution_count": 2,
   "id": "fc0c538c",
   "metadata": {},
   "outputs": [
    {
     "data": {
      "text/plain": [
       "'PytPytPyt'"
      ]
     },
     "execution_count": 2,
     "metadata": {},
     "output_type": "execute_result"
    }
   ],
   "source": [
    "def front3(s):\n",
    "    if len(s)<=3:\n",
    "        front=s\n",
    "    else:\n",
    "        front=s[:3]\n",
    "    return front*3\n",
    "front3(\"Python\")  "
   ]
  },
  {
   "cell_type": "code",
   "execution_count": 5,
   "id": "3f3c67df",
   "metadata": {},
   "outputs": [
    {
     "data": {
      "text/plain": [
       "100"
      ]
     },
     "execution_count": 5,
     "metadata": {},
     "output_type": "execute_result"
    }
   ],
   "source": [
    "#A vehicle needs 10 times the amount of fuel than the distance it travels. \n",
    "#However, it must always carry a minimum of 100 fuel before setting off.\n",
    "def calculate_fuel(n):\n",
    "    if n<=10:\n",
    "        return 100\n",
    "    else :\n",
    "        return n*10\n",
    "calculate_fuel(3)    "
   ]
  },
  {
   "cell_type": "code",
   "execution_count": 4,
   "id": "76cdfba2",
   "metadata": {},
   "outputs": [
    {
     "data": {
      "text/plain": [
       "150"
      ]
     },
     "execution_count": 4,
     "metadata": {},
     "output_type": "execute_result"
    }
   ],
   "source": [
    "calculate_fuel(15)"
   ]
  },
  {
   "cell_type": "code",
   "execution_count": 8,
   "id": "69d0df45",
   "metadata": {},
   "outputs": [],
   "source": [
    "def get_container(product):\n",
    "    matches = {\n",
    "        \"Bread\" : \"bag\",\n",
    "        \"Milk\" : \"bottle\",\n",
    "        \"Beer\" : \"bottle\",\n",
    "        \"Eggs\" : \"carton\",\n",
    "        \"Cerials\" : \"box\",\n",
    "        \"Candy\" : \"plastic\",\n",
    "        \"Cheese\" : None\n",
    "    }\n",
    "    return matches[product]"
   ]
  },
  {
   "cell_type": "code",
   "execution_count": 9,
   "id": "c36396b9",
   "metadata": {},
   "outputs": [
    {
     "data": {
      "text/plain": [
       "'bag'"
      ]
     },
     "execution_count": 9,
     "metadata": {},
     "output_type": "execute_result"
    }
   ],
   "source": [
    "get_container(\"Bread\")"
   ]
  },
  {
   "cell_type": "code",
   "execution_count": 1,
   "id": "b30a35c4",
   "metadata": {},
   "outputs": [],
   "source": [
    "def flip(y):\n",
    "    if y==0:\n",
    "        return 1\n",
    "    elif  y==1:\n",
    "        return 0"
   ]
  },
  {
   "cell_type": "code",
   "execution_count": 2,
   "id": "232a5439",
   "metadata": {},
   "outputs": [
    {
     "data": {
      "text/plain": [
       "0"
      ]
     },
     "execution_count": 2,
     "metadata": {},
     "output_type": "execute_result"
    }
   ],
   "source": [
    "flip(1)"
   ]
  },
  {
   "cell_type": "code",
   "execution_count": 10,
   "id": "a9f5aa86",
   "metadata": {},
   "outputs": [
    {
     "data": {
      "text/plain": [
       "0"
      ]
     },
     "execution_count": 10,
     "metadata": {},
     "output_type": "execute_result"
    }
   ],
   "source": [
    "def is_truthy(val):\n",
    "    if val==False or val==None or val==0 or val==\"\" or val=={} or val:\n",
    "        return 0\n",
    "   \n",
    "    else:\n",
    "        return 1\n",
    "    \n",
    "is_truthy(\"\")"
   ]
  },
  {
   "cell_type": "code",
   "execution_count": 17,
   "id": "5be4d699",
   "metadata": {},
   "outputs": [
    {
     "data": {
      "text/plain": [
       "10"
      ]
     },
     "execution_count": 17,
     "metadata": {},
     "output_type": "execute_result"
    }
   ],
   "source": [
    "def darts_scoring(x, y):\n",
    "    r=x+y\n",
    "    if r<=1:\n",
    "        p=10\n",
    "    elif r>1 and r<=5:\n",
    "        p=5\n",
    "    elif r>5 and r<=10:\n",
    "        p=1\n",
    "    else:\n",
    "        p=0\n",
    "    return p\n",
    "darts_scoring(3, 2)\n",
    "darts_scoring(0, -0.8)\n",
    "darts_scoring(0,-0.8)\n"
   ]
  },
  {
   "cell_type": "code",
   "execution_count": 30,
   "id": "2ec5d710",
   "metadata": {},
   "outputs": [
    {
     "data": {
      "text/plain": [
       "'bye Tomi'"
      ]
     },
     "execution_count": 30,
     "metadata": {},
     "output_type": "execute_result"
    }
   ],
   "source": [
    "def say_hello_bye(name, num):\n",
    "    if num==1:\n",
    "        return \"hello  \"+ name.capitalize()\n",
    "    elif num==0:\n",
    "        return \"bye \" + name.capitalize()   \n",
    "say_hello_bye(\"Tomi\", 0)"
   ]
  },
  {
   "cell_type": "code",
   "execution_count": 28,
   "id": "3c07cead",
   "metadata": {},
   "outputs": [
    {
     "data": {
      "text/plain": [
       "'hello  Alon'"
      ]
     },
     "execution_count": 28,
     "metadata": {},
     "output_type": "execute_result"
    }
   ],
   "source": [
    "say_hello_bye(\"alon\", 1)"
   ]
  },
  {
   "cell_type": "code",
   "execution_count": null,
   "id": "af292f17",
   "metadata": {},
   "outputs": [],
   "source": []
  },
  {
   "cell_type": "code",
   "execution_count": null,
   "id": "4d0f48df",
   "metadata": {},
   "outputs": [],
   "source": []
  },
  {
   "cell_type": "code",
   "execution_count": null,
   "id": "8369c48e",
   "metadata": {},
   "outputs": [],
   "source": []
  }
 ],
 "metadata": {
  "kernelspec": {
   "display_name": "Python 3 (ipykernel)",
   "language": "python",
   "name": "python3"
  },
  "language_info": {
   "codemirror_mode": {
    "name": "ipython",
    "version": 3
   },
   "file_extension": ".py",
   "mimetype": "text/x-python",
   "name": "python",
   "nbconvert_exporter": "python",
   "pygments_lexer": "ipython3",
   "version": "3.10.9"
  }
 },
 "nbformat": 4,
 "nbformat_minor": 5
}
