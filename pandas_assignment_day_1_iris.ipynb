{
  "nbformat": 4,
  "nbformat_minor": 0,
  "metadata": {
    "colab": {
      "name": "pandas_assignment_day_1_iris.ipynb",
      "provenance": []
    },
    "kernelspec": {
      "name": "python3",
      "display_name": "Python 3"
    },
    "language_info": {
      "name": "python"
    }
  },
  "cells": [
    {
      "cell_type": "markdown",
      "source": [
        "##### step 1. load the iris.csv dataset."
      ],
      "metadata": {
        "id": "zRhUEkBeS8Qg"
      }
    },
    {
      "cell_type": "markdown",
      "source": [
        "##### 1. Write a Pandas program to get the data types of the given csv data (iris.csv ) fields"
      ],
      "metadata": {
        "id": "5WVght9dU2YI"
      }
    },
    {
      "cell_type": "code",
      "execution_count": null,
      "metadata": {
        "id": "C13Rt0THSpoM"
      },
      "outputs": [],
      "source": [
        "### code here"
      ]
    },
    {
      "cell_type": "markdown",
      "source": [
        "##### 2. Write a Pandas program to find the sum, mean, max, min value of 'SepalLengthCm' column of dataframe"
      ],
      "metadata": {
        "id": "dYxlvzWmVaDn"
      }
    },
    {
      "cell_type": "code",
      "source": [
        "### code here"
      ],
      "metadata": {
        "id": "xtg3dV8IVBbv"
      },
      "execution_count": null,
      "outputs": []
    },
    {
      "cell_type": "markdown",
      "source": [
        "##### 3. Write a Pandas program to import iris data and skipping first twenty rows into a Pandas dataframe."
      ],
      "metadata": {
        "id": "HIpADOFWVzAp"
      }
    },
    {
      "cell_type": "code",
      "source": [
        "### code here"
      ],
      "metadata": {
        "id": "KeHypbxwVBZv"
      },
      "execution_count": null,
      "outputs": []
    },
    {
      "cell_type": "markdown",
      "source": [
        "##### 4. Write a Pandas program to display the last ten rows."
      ],
      "metadata": {
        "id": "5c1VVMH5XX9Q"
      }
    },
    {
      "cell_type": "code",
      "source": [
        "### code here"
      ],
      "metadata": {
        "id": "DK0goSHbVBXY"
      },
      "execution_count": null,
      "outputs": []
    },
    {
      "cell_type": "markdown",
      "source": [
        "##### 5. Write a Pandas program to create a subtotal of \"PetalLengthCm\" against Species from the dataframe."
      ],
      "metadata": {
        "id": "sx3NPmvWqRy7"
      }
    },
    {
      "cell_type": "code",
      "source": [
        "### code here"
      ],
      "metadata": {
        "id": "npM5YkvmVBUq"
      },
      "execution_count": null,
      "outputs": []
    },
    {
      "cell_type": "markdown",
      "source": [
        "###### 6. Write a Pandas program to find details where \"PetalLengthCm\" > 2."
      ],
      "metadata": {
        "id": "8myKwnrF0GN9"
      }
    },
    {
      "cell_type": "code",
      "source": [
        "### code here"
      ],
      "metadata": {
        "id": "jWT0-GwAVBRv"
      },
      "execution_count": null,
      "outputs": []
    },
    {
      "cell_type": "markdown",
      "source": [
        "###### 7. Write a Pandas program find all records that include two specific Species."
      ],
      "metadata": {
        "id": "WCta-n7U1Ef1"
      }
    },
    {
      "cell_type": "code",
      "source": [
        "### code here"
      ],
      "metadata": {
        "id": "K5zedfE41A2o"
      },
      "execution_count": null,
      "outputs": []
    },
    {
      "cell_type": "markdown",
      "source": [
        "###### 8.  Write a Pandas program to sort the records by the SepalLengthCm column."
      ],
      "metadata": {
        "id": "DrpeEJM03tFN"
      }
    },
    {
      "cell_type": "code",
      "source": [
        "### code here"
      ],
      "metadata": {
        "id": "ehux85DE1A5X"
      },
      "execution_count": null,
      "outputs": []
    },
    {
      "cell_type": "markdown",
      "source": [
        "##### 9. Write a Pandas program to insert a column in the sixth position of dataframe and fill it with NaN values."
      ],
      "metadata": {
        "id": "UwQsG2jR4FmW"
      }
    },
    {
      "cell_type": "code",
      "source": [
        "### code here"
      ],
      "metadata": {
        "id": "yOz2qr4o1A7-"
      },
      "execution_count": null,
      "outputs": []
    },
    {
      "cell_type": "markdown",
      "source": [
        "##### 10. Write a Pandas program to add summation to a row of the dataframe."
      ],
      "metadata": {
        "id": "Noxk68HU5a4e"
      }
    },
    {
      "cell_type": "code",
      "source": [
        "### code here"
      ],
      "metadata": {
        "id": "Z0gJpEJa1A-a"
      },
      "execution_count": null,
      "outputs": []
    }
  ]
}