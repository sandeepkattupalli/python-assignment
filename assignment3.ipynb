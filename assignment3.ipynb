{
 "cells": [
  {
   "cell_type": "code",
   "execution_count": 1,
   "id": "6770bd70",
   "metadata": {},
   "outputs": [
    {
     "name": "stdout",
     "output_type": "stream",
     "text": [
      "0\n",
      "1\n",
      "2\n",
      "4\n",
      "5\n"
     ]
    }
   ],
   "source": [
    "#write a python program that print numbers from 0 to 6 excluding 3and 6\n",
    "for i in range (7):\n",
    "    if i!=3and i!=6:\n",
    "        print(i)"
   ]
  },
  {
   "cell_type": "code",
   "execution_count": 3,
   "id": "05390489",
   "metadata": {},
   "outputs": [
    {
     "name": "stdout",
     "output_type": "stream",
     "text": [
      "enter the  Number:5\n",
      "15\n"
     ]
    }
   ],
   "source": [
    "num=int(input(\"enter the  Number:\"))\n",
    "num2=0\n",
    "for i in range(0,num+1):\n",
    "    num2+=i\n",
    "print(num2)\n"
   ]
  },
  {
   "cell_type": "code",
   "execution_count": 3,
   "id": "ffa9a1d9",
   "metadata": {},
   "outputs": [
    {
     "name": "stdout",
     "output_type": "stream",
     "text": [
      "enter string: sandeep#@\n",
      "sandeep\n"
     ]
    }
   ],
   "source": [
    "num=input(\"enter string: \")\n",
    "b=\"\"\n",
    "for i in range(0,len(num)):\n",
    "    if num[i].isalpha():\n",
    "        b+=num[i]\n",
    "    else:\n",
    "        continue\n",
    "print(b)"
   ]
  },
  {
   "cell_type": "markdown",
   "id": "856e435e",
   "metadata": {},
   "source": []
  },
  {
   "cell_type": "code",
   "execution_count": 4,
   "id": "8d84a85a",
   "metadata": {},
   "outputs": [
    {
     "name": "stdout",
     "output_type": "stream",
     "text": [
      "enter  num :33\n",
      "enter  num :33\n",
      "enter  num :33\n",
      "enter  num :33\n",
      "enter  num :33\n",
      "enter  num :3\n",
      "enter  num :33\n",
      "enter  num :33\n",
      "enter  num :33\n",
      "enter  num :33\n",
      "Average:  30.000000000000004\n"
     ]
    }
   ],
   "source": [
    "avg=0\n",
    "for x in range(0,10):\n",
    "    y=int(input(\"enter  num :\"))\n",
    "    avg+=y/10\n",
    "print(\"Average: \",avg)"
   ]
  },
  {
   "cell_type": "markdown",
   "id": "d7fcf98d",
   "metadata": {},
   "source": []
  },
  {
   "cell_type": "code",
   "execution_count": 10,
   "id": "b7b73a9e",
   "metadata": {},
   "outputs": [
    {
     "name": "stdout",
     "output_type": "stream",
     "text": [
      "enter your number or stop 5\n",
      "5*1=5\n",
      "5*2=10\n",
      "5*3=15\n",
      "5*4=20\n",
      "5*5=25\n",
      "5*6=30\n",
      "5*7=35\n",
      "5*8=40\n",
      "5*9=45\n",
      "5*10=50\n",
      "enter your number or stop stop\n"
     ]
    }
   ],
   "source": [
    "while True:\n",
    "    x=input(\"enter your number or stop\" ' ')\n",
    "    if x=='stop':\n",
    "        break\n",
    "    for y in range(1,11):\n",
    "        x1=int(x)\n",
    "        z=x1*y\n",
    "        print('{}*{}={}'.format(x1,y,z))"
   ]
  },
  {
   "cell_type": "code",
   "execution_count": 11,
   "id": "6d5e8549",
   "metadata": {},
   "outputs": [
    {
     "name": "stdout",
     "output_type": "stream",
     "text": [
      " enter your number :86521\n",
      "number of degits 5\n"
     ]
    }
   ],
   "source": [
    "# write a program to count the total number of digits in a number using while loop\n",
    "number= int(input (' enter your number :'))\n",
    "num1=number\n",
    "count=0\n",
    "while num1!=0:\n",
    "    num1=num1//10\n",
    "    count=count+1\n",
    "print('number of degits',count)"
   ]
  },
  {
   "cell_type": "code",
   "execution_count": 2,
   "id": "07f115f6",
   "metadata": {},
   "outputs": [
    {
     "name": "stdout",
     "output_type": "stream",
     "text": [
      "54\n",
      "54\n",
      "53\n",
      "52\n",
      "51\n",
      "50\n",
      "49\n",
      "48\n",
      "47\n",
      "46\n",
      "45\n",
      "44\n",
      "43\n",
      "42\n",
      "41\n",
      "40\n",
      "39\n",
      "38\n",
      "37\n",
      "36\n",
      "35\n",
      "34\n",
      "33\n",
      "32\n",
      "31\n",
      "30\n",
      "29\n",
      "28\n",
      "27\n",
      "26\n",
      "25\n",
      "24\n",
      "23\n",
      "22\n",
      "21\n",
      "20\n",
      "19\n",
      "18\n",
      "17\n",
      "16\n",
      "15\n",
      "14\n",
      "13\n",
      "12\n",
      "11\n",
      "10\n",
      "9\n",
      "8\n",
      "7\n",
      "6\n",
      "5\n",
      "4\n",
      "3\n",
      "2\n",
      "1\n",
      "0\n"
     ]
    }
   ],
   "source": [
    "#write  a python program which will accept a digit and print \n",
    "#all the number before it till 0\n",
    "num=int(input())\n",
    "for i in range (num,-1,-1):\n",
    "    print(i)"
   ]
  },
  {
   "cell_type": "code",
   "execution_count": 5,
   "id": "93b28a56",
   "metadata": {},
   "outputs": [
    {
     "name": "stdout",
     "output_type": "stream",
     "text": [
      "1\n",
      "2\n",
      "fizz\n",
      "4\n",
      "buzz\n",
      "fizz\n",
      "7\n",
      "8\n",
      "fizz\n",
      "buzz\n",
      "11\n",
      "fizz\n",
      "13\n",
      "14\n",
      "fizzbuzz\n",
      "16\n",
      "17\n",
      "fizz\n",
      "19\n",
      "buzz\n",
      "fizz\n",
      "22\n",
      "23\n",
      "fizz\n",
      "buzz\n",
      "26\n",
      "fizz\n",
      "28\n",
      "29\n",
      "fizzbuzz\n",
      "31\n",
      "32\n",
      "fizz\n",
      "34\n",
      "buzz\n",
      "fizz\n",
      "37\n",
      "38\n",
      "fizz\n",
      "buzz\n",
      "41\n",
      "fizz\n",
      "43\n",
      "44\n",
      "fizzbuzz\n",
      "46\n",
      "47\n",
      "fizz\n",
      "49\n",
      "buzz\n",
      "fizz\n",
      "52\n",
      "53\n",
      "fizz\n",
      "buzz\n",
      "56\n",
      "fizz\n",
      "58\n",
      "59\n",
      "fizzbuzz\n"
     ]
    }
   ],
   "source": [
    "#write a python program which iterates the integer from 1-60\n",
    "#for multiples of 3 print'fizz' \n",
    "#and multiples of 5 print'buzz'\n",
    "#and multiple by both 3 and 5 print' fizzbuzz\n",
    "for num in range (1,61):\n",
    "    if num%3==0 and num%5==0:\n",
    "        print('fizzbuzz')\n",
    "    elif num%3==0:\n",
    "        print('fizz')\n",
    "    elif num%5==0:\n",
    "        print('buzz')\n",
    "    else :\n",
    "        print(num)"
   ]
  },
  {
   "cell_type": "code",
   "execution_count": 5,
   "id": "0d97e982",
   "metadata": {},
   "outputs": [
    {
     "name": "stdout",
     "output_type": "stream",
     "text": [
      "enter a start or press cstart\n",
      "enter number :44\n",
      "enter the operator*\n",
      "enter number :2\n",
      "88\n",
      "enter a start or press cc\n"
     ]
    }
   ],
   "source": [
    "while   True :\n",
    "    x1  = input('enter a start or press c')\n",
    "    if x1 == 'c':\n",
    "        break\n",
    "    else:\n",
    "        \n",
    "        x = input('enter number :')\n",
    "        if x.isalpha():\n",
    "            print('wrong input ')\n",
    "            break\n",
    "        op = input('enter the operator')\n",
    "        if op.isdigit():\n",
    "            print('wrong input')\n",
    "            break\n",
    "        num = int(input('enter number :'))\n",
    "        x=int(x)\n",
    "        if op == '+':\n",
    "            print(x+num)\n",
    "        elif op == '-':\n",
    "            print(x-num)\n",
    "        elif op == '*':\n",
    "            print(x*num)\n",
    "        elif op == '**':\n",
    "            print(x**num)\n",
    "        elif op == '/':\n",
    "            print(x/num)\n",
    "        elif op == '//':\n",
    "            print(x//num)"
   ]
  },
  {
   "cell_type": "code",
   "execution_count": 3,
   "id": "f44b603a",
   "metadata": {},
   "outputs": [
    {
     "name": "stdout",
     "output_type": "stream",
     "text": [
      "Give a string: sandeep123\n",
      "Letters: 7 \n",
      "Numbers: 3\n"
     ]
    }
   ],
   "source": [
    "x=input(\"Give a string: \")\n",
    "a=0\n",
    "b=0\n",
    "for y in range(0,len(x)):\n",
    "    if x[y].isalpha():\n",
    "        a+=1\n",
    "    else:\n",
    "        x[y].isdigit()\n",
    "        b+=1\n",
    "print(\"Letters:\",a,\"\\n\"\"Numbers:\",b)"
   ]
  },
  {
   "cell_type": "code",
   "execution_count": 2,
   "id": "f0f08ea0",
   "metadata": {},
   "outputs": [
    {
     "name": "stdout",
     "output_type": "stream",
     "text": [
      "enter  string: sandeep\n",
      "peednas\n"
     ]
    }
   ],
   "source": [
    "name=input(\"enter  string: \")\n",
    "a=\"\"\n",
    "y=1\n",
    "while y<len(name)+1:\n",
    "    a+=name[-y]\n",
    "    y+=1\n",
    "print(a)"
   ]
  },
  {
   "cell_type": "code",
   "execution_count": null,
   "id": "3302b4c1",
   "metadata": {},
   "outputs": [],
   "source": []
  }
 ],
 "metadata": {
  "kernelspec": {
   "display_name": "Python 3 (ipykernel)",
   "language": "python",
   "name": "python3"
  },
  "language_info": {
   "codemirror_mode": {
    "name": "ipython",
    "version": 3
   },
   "file_extension": ".py",
   "mimetype": "text/x-python",
   "name": "python",
   "nbconvert_exporter": "python",
   "pygments_lexer": "ipython3",
   "version": "3.10.9"
  }
 },
 "nbformat": 4,
 "nbformat_minor": 5
}
