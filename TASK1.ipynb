{
 "cells": [
  {
   "cell_type": "code",
   "execution_count": 1,
   "id": "e492cd32",
   "metadata": {},
   "outputs": [
    {
     "name": "stdout",
     "output_type": "stream",
     "text": [
      "SANDEEP\n",
      "sandeep"
     ]
    }
   ],
   "source": [
    "#write a python program to conver a string to lower case\n",
    "name=input()\n",
    "for i in range (len(name)):\n",
    "    print(name[i].lower(),end='')"
   ]
  },
  {
   "cell_type": "code",
   "execution_count": 2,
   "id": "0e382549",
   "metadata": {},
   "outputs": [
    {
     "name": "stdout",
     "output_type": "stream",
     "text": [
      "PyThOn"
     ]
    }
   ],
   "source": [
    "#WRITE a python program to convert only odd indexed characters to lower case\n",
    "name = 'python'\n",
    "for i in range(len(name)):\n",
    "    if i%2 == 0:\n",
    "        print(name[i].upper(),end = '')\n",
    "    else: print(name[i].lower(),end = '')"
   ]
  },
  {
   "cell_type": "code",
   "execution_count": 3,
   "id": "6e80d880",
   "metadata": {},
   "outputs": [
    {
     "name": "stdout",
     "output_type": "stream",
     "text": [
      "pYtHoN"
     ]
    }
   ],
   "source": [
    "#write a python program to convert only even indexed characters to lower case\n",
    "name = 'PYTHON'\n",
    "for i in range(len(name)):\n",
    "    if i%2 == 0:\n",
    "        print(name[i].lower (),end = '')\n",
    "    else: print(name[i].upper(),end = '')"
   ]
  },
  {
   "cell_type": "code",
   "execution_count": 4,
   "id": "4611b7e9",
   "metadata": {},
   "outputs": [
    {
     "name": "stdout",
     "output_type": "stream",
     "text": [
      "pYtHoN"
     ]
    }
   ],
   "source": [
    "#write a python program to convert only odd indexed characters to upper case\n",
    "name = 'PYTHON'\n",
    "for i in range(len(name)):\n",
    "    if i%2 == 0:\n",
    "        print(name[i].lower (),end = '')\n",
    "    else: print(name[i].upper(),end = '')"
   ]
  },
  {
   "cell_type": "code",
   "execution_count": 5,
   "id": "60d3d419",
   "metadata": {},
   "outputs": [
    {
     "name": "stdout",
     "output_type": "stream",
     "text": [
      "pYtHoN"
     ]
    }
   ],
   "source": [
    "#write a python program to convert only even indexed characters to upper  case\n",
    "name = 'PYTHON'\n",
    "for i in range(len(name)):\n",
    "    if i%2 == 0:\n",
    "        print(name[i].lower (),end = '')\n",
    "    else: print(name[i].upper(),end = '')"
   ]
  },
  {
   "cell_type": "code",
   "execution_count": 6,
   "id": "3de5eb90",
   "metadata": {},
   "outputs": [
    {
     "name": "stdout",
     "output_type": "stream",
     "text": [
      "my name is sandeep,my age is 21,my phone no is 9100631359,my father name is venkateswarlu  and my mother name is kumari\n"
     ]
    }
   ],
   "source": [
    "name='sandeep'\n",
    "sex='m'\n",
    "age=21\n",
    "phone_no=9100631359\n",
    "father_name='venkateswarlu'\n",
    "mother_name='kumari'\n",
    "bio_data='my name is {},my age is {},my phone no is {},my father name is {}  and my mother name is {}'\n",
    "print(bio_data.format(name,age,phone_no,father_name,mother_name))"
   ]
  },
  {
   "cell_type": "code",
   "execution_count": 7,
   "id": "fb105ec3",
   "metadata": {},
   "outputs": [
    {
     "name": "stdout",
     "output_type": "stream",
     "text": [
      "enter the names sandeep,vamsi,kevin\n",
      "sandeep\n",
      "vamsi\n",
      "kevin\n"
     ]
    }
   ],
   "source": [
    "# write a python program to take three names  \n",
    "#as input from an user single input function call.\n",
    "names=input ('enter the names ') . split(',')\n",
    "if True:\n",
    "    name1,name2,name3=names\n",
    "    print(name1)\n",
    "    print(name2)\n",
    "    print(name3)\n"
   ]
  },
  {
   "cell_type": "code",
   "execution_count": 8,
   "id": "27082a16",
   "metadata": {},
   "outputs": [
    {
     "name": "stdout",
     "output_type": "stream",
     "text": [
      "mynameissan\n",
      "mei\n"
     ]
    }
   ],
   "source": [
    "name=input()\n",
    "middle_index=(len(name)//2)\n",
    "print(name[middle_index -1:middle_index+2])"
   ]
  },
  {
   "cell_type": "code",
   "execution_count": 9,
   "id": "5aabd999",
   "metadata": {},
   "outputs": [
    {
     "name": "stdout",
     "output_type": "stream",
     "text": [
      "myn\n",
      "sa\n",
      "msayn\n"
     ]
    }
   ],
   "source": [
    "#write a python program to insert a 2 strings in middle of a 1st string\n",
    "name=input()\n",
    "name1=input()\n",
    "print(name[:int(len(name)/2)]+name1+name[int(len(name)/2):])"
   ]
  },
  {
   "cell_type": "code",
   "execution_count": 10,
   "id": "67528e7c",
   "metadata": {},
   "outputs": [
    {
     "name": "stdout",
     "output_type": "stream",
     "text": [
      "ABCDEFGHIJKLMNOPQRSTUVWXYZ\n",
      " BCD FGH JKLMN PQRST VWXYZ\n"
     ]
    }
   ],
   "source": [
    "# write a program to remove vowels from entair alphabets :\n",
    "#1.take a string \n",
    "# 2.find the vowel in given string \n",
    "#3 . remove all the vowels from in given string\n",
    "# 4. print sub string in with out vowes \n",
    "string=\"ABCDEFGHIJKLMNOPQRSTUVWXYZ\"\n",
    "vowel_string ='A,E,I,O,U'\n",
    "print(string)\n",
    "for i in string:\n",
    "    if i in vowel_string:\n",
    "        string=string.replace (i,' ')\n",
    "print(string)\n",
    " "
   ]
  },
  {
   "cell_type": "code",
   "execution_count": 11,
   "id": "09d46f5e",
   "metadata": {},
   "outputs": [],
   "source": []
  },
  {
   "cell_type": "code",
   "execution_count": null,
   "id": "8e8bbc0a",
   "metadata": {},
   "outputs": [],
   "source": []
  },
  {
   "cell_type": "code",
   "execution_count": null,
   "id": "7489509e",
   "metadata": {},
   "outputs": [],
   "source": []
  },
  {
   "cell_type": "code",
   "execution_count": 13,
   "id": "b6fbe801",
   "metadata": {},
   "outputs": [
    {
     "data": {
      "text/plain": [
       "4"
      ]
     },
     "execution_count": 13,
     "metadata": {},
     "output_type": "execute_result"
    }
   ],
   "source": []
  },
  {
   "cell_type": "code",
   "execution_count": null,
   "id": "627b4fb0",
   "metadata": {},
   "outputs": [],
   "source": []
  }
 ],
 "metadata": {
  "kernelspec": {
   "display_name": "Python 3 (ipykernel)",
   "language": "python",
   "name": "python3"
  },
  "language_info": {
   "codemirror_mode": {
    "name": "ipython",
    "version": 3
   },
   "file_extension": ".py",
   "mimetype": "text/x-python",
   "name": "python",
   "nbconvert_exporter": "python",
   "pygments_lexer": "ipython3",
   "version": "3.10.9"
  }
 },
 "nbformat": 4,
 "nbformat_minor": 5
}
